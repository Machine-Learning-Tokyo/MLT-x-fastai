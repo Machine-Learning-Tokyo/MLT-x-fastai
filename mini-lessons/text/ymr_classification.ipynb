{
 "cells": [
  {
   "cell_type": "markdown",
   "metadata": {
    "colab_type": "text",
    "id": "view-in-github"
   },
   "source": [
    "<a href=\"https://colab.research.google.com/github/Machine-Learning-Tokyo/MLT-x-fastai/blob/master/fastai-text-data-examples-colab.ipynb\" target=\"_parent\"><img src=\"https://colab.research.google.com/assets/colab-badge.svg\" alt=\"Open In Colab\"/></a>"
   ]
  },
  {
   "cell_type": "code",
   "execution_count": 0,
   "metadata": {
    "colab": {},
    "colab_type": "code",
    "id": "i8F6rk1YwJ9P"
   },
   "outputs": [],
   "source": [
    "%reload_ext autoreload\n",
    "%autoreload 2\n",
    "%matplotlib inline"
   ]
  },
  {
   "cell_type": "code",
   "execution_count": 0,
   "metadata": {
    "colab": {},
    "colab_type": "code",
    "id": "btS8qaALwJ9b"
   },
   "outputs": [],
   "source": [
    "from fastai import *\n",
    "from fastai.text import *"
   ]
  },
  {
   "cell_type": "markdown",
   "metadata": {
    "colab_type": "text",
    "id": "5ZOWlQymwJ9g"
   },
   "source": [
    "Content from this notebook has been inspired from the fast.ai course-v3 Part 1. In this notebook we'll go through some standard NLP tasks using lessons from fast.ai. We will learn about Transfer Learning in NLP, creating `TextDataBunch` objects, training a model for text classification task and a Sequence2Sequence task We will see how the `fastai` library uses a style called the Data Block API to simplify the process of prepping data for different tasks."
   ]
  },
  {
   "cell_type": "code",
   "execution_count": 0,
   "metadata": {
    "colab": {},
    "colab_type": "code",
    "id": "RAAKTmvMwJ9i"
   },
   "outputs": [],
   "source": [
    "#Google Colab notes: imports for uploading files\n",
    "#from google.colab import files"
   ]
  },
  {
   "cell_type": "code",
   "execution_count": 0,
   "metadata": {
    "colab": {},
    "colab_type": "code",
    "id": "NQMt1sO6wUHO"
   },
   "outputs": [],
   "source": [
    "#Google Colab notes: make data directory\n",
    "#!mkdir data"
   ]
  },
  {
   "cell_type": "code",
   "execution_count": 0,
   "metadata": {
    "colab": {},
    "colab_type": "code",
    "id": "FbtcGVLWwJ9p"
   },
   "outputs": [],
   "source": [
    "path = Path('data')"
   ]
  },
  {
   "cell_type": "markdown",
   "metadata": {
    "colab_type": "text",
    "id": "de1RHLVWwJ9t"
   },
   "source": [
    "## Language Modeling\n",
    "\n",
    "One of the most common tasks done in NLP is called language modeling. A language model is an NLP model which learns to predict the next word in a sentence. We do this is because we assume that if a language model is quite accurate at guessing the next probable word in a sentnce, it needs a lot of world knowledge and a deep understanding of grammar, semantics, and other elements of natural language.\n",
    "\n",
    "We will show how to train a simple language model."
   ]
  },
  {
   "cell_type": "code",
   "execution_count": 0,
   "metadata": {
    "colab": {},
    "colab_type": "code",
    "id": "562r2FPmwJ9u"
   },
   "outputs": [],
   "source": [
    "#!wget https://s3.amazonaws.com/text-datasets/nietzsche.txt\n",
    "#!mv nietzsche.txt data"
   ]
  },
  {
   "cell_type": "code",
   "execution_count": 0,
   "metadata": {
    "colab": {
     "base_uri": "https://localhost:8080/",
     "height": 206
    },
    "colab_type": "code",
    "id": "TvqPqmt0wJ91",
    "outputId": "23b97728-6ca4-4e29-b1ba-3b7c813cbcb1"
   },
   "outputs": [
    {
     "data": {
      "text/html": [
       "<div>\n",
       "<style scoped>\n",
       "    .dataframe tbody tr th:only-of-type {\n",
       "        vertical-align: middle;\n",
       "    }\n",
       "\n",
       "    .dataframe tbody tr th {\n",
       "        vertical-align: top;\n",
       "    }\n",
       "\n",
       "    .dataframe thead th {\n",
       "        text-align: right;\n",
       "    }\n",
       "</style>\n",
       "<table border=\"1\" class=\"dataframe\">\n",
       "  <thead>\n",
       "    <tr style=\"text-align: right;\">\n",
       "      <th></th>\n",
       "      <th>0</th>\n",
       "    </tr>\n",
       "  </thead>\n",
       "  <tbody>\n",
       "    <tr>\n",
       "      <th>0</th>\n",
       "      <td>PREFACE</td>\n",
       "    </tr>\n",
       "    <tr>\n",
       "      <th>1</th>\n",
       "      <td>\\nSUPPOSING that Truth is a woman--what then? ...</td>\n",
       "    </tr>\n",
       "    <tr>\n",
       "      <th>2</th>\n",
       "      <td>Sils Maria Upper Engadine, JUNE, 1885.</td>\n",
       "    </tr>\n",
       "    <tr>\n",
       "      <th>3</th>\n",
       "      <td></td>\n",
       "    </tr>\n",
       "    <tr>\n",
       "      <th>4</th>\n",
       "      <td>\\nCHAPTER I. PREJUDICES OF PHILOSOPHERS</td>\n",
       "    </tr>\n",
       "  </tbody>\n",
       "</table>\n",
       "</div>"
      ],
      "text/plain": [
       "                                                   0\n",
       "0                                            PREFACE\n",
       "1  \\nSUPPOSING that Truth is a woman--what then? ...\n",
       "2             Sils Maria Upper Engadine, JUNE, 1885.\n",
       "3                                                   \n",
       "4            \\nCHAPTER I. PREJUDICES OF PHILOSOPHERS"
      ]
     },
     "execution_count": 7,
     "metadata": {
      "tags": []
     },
     "output_type": "execute_result"
    }
   ],
   "source": [
    "df = pd.DataFrame(open(path/'nietzsche.txt').read().split('\\n\\n'))\n",
    "df.head()"
   ]
  },
  {
   "cell_type": "code",
   "execution_count": 0,
   "metadata": {
    "colab": {},
    "colab_type": "code",
    "id": "Z0LSpb-SwJ97"
   },
   "outputs": [],
   "source": [
    "bs=64\n",
    "data_lm = (TextList.from_df(df,path,cols=[0])\n",
    "                   .split_by_rand_pct(0.1)\n",
    "                   .label_for_lm()\n",
    "                   .databunch(bs=bs))"
   ]
  },
  {
   "cell_type": "code",
   "execution_count": 0,
   "metadata": {
    "colab": {
     "base_uri": "https://localhost:8080/",
     "height": 293
    },
    "colab_type": "code",
    "id": "JJf8PW9cwJ-A",
    "outputId": "5ec5e34e-faca-4a35-af42-0b998aec5960"
   },
   "outputs": [
    {
     "data": {
      "text/html": [
       "<table border=\"1\" class=\"dataframe\">\n",
       "  <thead>\n",
       "    <tr style=\"text-align: right;\">\n",
       "      <th>idx</th>\n",
       "      <th>text</th>\n",
       "    </tr>\n",
       "  </thead>\n",
       "  <tbody>\n",
       "    <tr>\n",
       "      <td>0</td>\n",
       "      <td>unseemly methods for \\n  xxunk a woman ? xxmaj certainly she has never allowed herself to be won ; and \\n  at present every kind of dogma stands with sad and xxunk xxunk -- xxup if , \\n  indeed , it stands at all ! xxmaj for there are xxunk who maintain that it \\n  has fallen , that all dogma lies on the ground --</td>\n",
       "    </tr>\n",
       "    <tr>\n",
       "      <td>1</td>\n",
       "      <td>an opinion is life - xxunk , life - preserving , \\n  species - preserving , perhaps species - rearing , and we are fundamentally \\n  inclined to maintain that the xxunk opinions ( to which the synthetic \\n  judgments a priori belong ) , are the most indispensable to us , that \\n  without a recognition of logical fictions , without a comparison of \\n</td>\n",
       "    </tr>\n",
       "    <tr>\n",
       "      <td>2</td>\n",
       "      <td>, the \\n  will to \" creation of the world , \" the will to the causa xxunk . xxbos 10 . xxmaj the eagerness and subtlety , i should even say craftiness , with \\n  which the problem of \" the real and the apparent world \" is xxunk with at \\n  present throughout xxmaj europe , furnishes food for thought and attention ; and \\n</td>\n",
       "    </tr>\n",
       "    <tr>\n",
       "      <td>3</td>\n",
       "      <td>belief ought to be xxunk from science ! xxmaj between \\n  ourselves , it is not at all necessary to get rid of \" the soul \" thereby , \\n  and thus renounce one of the oldest and most xxunk hypotheses -- as \\n  happens frequently to the clumsiness of xxunk , who can hardly \\n  touch on the soul without immediately losing it . xxmaj</td>\n",
       "    </tr>\n",
       "    <tr>\n",
       "      <td>4</td>\n",
       "      <td>alone is really known to us , absolutely and \\n  completely known , without deduction or addition . xxmaj but it again and \\n  again seems to me that in this case xxmaj schopenhauer also only did what \\n  philosophers are in the habit of doing -- he seems to have adopted a \\n  xxup popular xxup prejudice and exaggerated it . xxmaj willing seems to</td>\n",
       "    </tr>\n",
       "  </tbody>\n",
       "</table>"
      ],
      "text/plain": [
       "<IPython.core.display.HTML object>"
      ]
     },
     "metadata": {
      "tags": []
     },
     "output_type": "display_data"
    }
   ],
   "source": [
    "data_lm.show_batch()"
   ]
  },
  {
   "cell_type": "code",
   "execution_count": 0,
   "metadata": {
    "colab": {},
    "colab_type": "code",
    "id": "VgctHNM_wJ-K"
   },
   "outputs": [],
   "source": [
    "learn = language_model_learner(data_lm, AWD_LSTM,drop_mult=0.3)"
   ]
  },
  {
   "cell_type": "code",
   "execution_count": 0,
   "metadata": {
    "colab": {
     "base_uri": "https://localhost:8080/",
     "height": 300
    },
    "colab_type": "code",
    "id": "mKZQVe88wJ-S",
    "outputId": "79059f27-394d-4a69-fc8d-c08d3d3f02d4"
   },
   "outputs": [
    {
     "data": {
      "text/html": [],
      "text/plain": [
       "<IPython.core.display.HTML object>"
      ]
     },
     "metadata": {
      "tags": []
     },
     "output_type": "display_data"
    },
    {
     "name": "stdout",
     "output_type": "stream",
     "text": [
      "LR Finder is complete, type {learner_name}.recorder.plot() to see the graph.\n"
     ]
    },
    {
     "data": {
      "image/png": "[encoded data removed]",
      "text/plain": [
       "<Figure size 432x288 with 1 Axes>"
      ]
     },
     "metadata": {
      "tags": []
     },
     "output_type": "display_data"
    }
   ],
   "source": [
    "learn.lr_find()\n",
    "learn.recorder.plot()"
   ]
  },
  {
   "cell_type": "code",
   "execution_count": 0,
   "metadata": {
    "colab": {
     "base_uri": "https://localhost:8080/",
     "height": 81
    },
    "colab_type": "code",
    "id": "VH1Rrf2mwJ-a",
    "outputId": "0debccd6-8716-4222-fab2-110bdc704210"
   },
   "outputs": [
    {
     "data": {
      "text/html": [
       "<table border=\"1\" class=\"dataframe\">\n",
       "  <thead>\n",
       "    <tr style=\"text-align: left;\">\n",
       "      <th>epoch</th>\n",
       "      <th>train_loss</th>\n",
       "      <th>valid_loss</th>\n",
       "      <th>accuracy</th>\n",
       "      <th>time</th>\n",
       "    </tr>\n",
       "  </thead>\n",
       "  <tbody>\n",
       "    <tr>\n",
       "      <td>0</td>\n",
       "      <td>4.749605</td>\n",
       "      <td>4.329587</td>\n",
       "      <td>0.213988</td>\n",
       "      <td>00:09</td>\n",
       "    </tr>\n",
       "  </tbody>\n",
       "</table>"
      ],
      "text/plain": [
       "<IPython.core.display.HTML object>"
      ]
     },
     "metadata": {
      "tags": []
     },
     "output_type": "display_data"
    }
   ],
   "source": [
    "learn.fit_one_cycle(1,1e-2,moms=(0.7,0.8))"
   ]
  },
  {
   "cell_type": "code",
   "execution_count": 0,
   "metadata": {
    "colab": {
     "base_uri": "https://localhost:8080/",
     "height": 175
    },
    "colab_type": "code",
    "id": "lLQSsIHZwJ-h",
    "outputId": "fea85c45-44ac-45d8-b8f5-1c631e0063bc"
   },
   "outputs": [
    {
     "data": {
      "text/html": [
       "<table border=\"1\" class=\"dataframe\">\n",
       "  <thead>\n",
       "    <tr style=\"text-align: left;\">\n",
       "      <th>epoch</th>\n",
       "      <th>train_loss</th>\n",
       "      <th>valid_loss</th>\n",
       "      <th>accuracy</th>\n",
       "      <th>time</th>\n",
       "    </tr>\n",
       "  </thead>\n",
       "  <tbody>\n",
       "    <tr>\n",
       "      <td>0</td>\n",
       "      <td>4.242284</td>\n",
       "      <td>3.997777</td>\n",
       "      <td>0.256920</td>\n",
       "      <td>00:11</td>\n",
       "    </tr>\n",
       "    <tr>\n",
       "      <td>1</td>\n",
       "      <td>4.024162</td>\n",
       "      <td>3.899869</td>\n",
       "      <td>0.265625</td>\n",
       "      <td>00:11</td>\n",
       "    </tr>\n",
       "    <tr>\n",
       "      <td>2</td>\n",
       "      <td>3.843143</td>\n",
       "      <td>3.868506</td>\n",
       "      <td>0.266295</td>\n",
       "      <td>00:11</td>\n",
       "    </tr>\n",
       "    <tr>\n",
       "      <td>3</td>\n",
       "      <td>3.600221</td>\n",
       "      <td>3.874033</td>\n",
       "      <td>0.270610</td>\n",
       "      <td>00:11</td>\n",
       "    </tr>\n",
       "  </tbody>\n",
       "</table>"
      ],
      "text/plain": [
       "<IPython.core.display.HTML object>"
      ]
     },
     "metadata": {
      "tags": []
     },
     "output_type": "display_data"
    }
   ],
   "source": [
    "learn.unfreeze()\n",
    "learn.fit_one_cycle(4,3e-3,moms=(0.7,0.8))"
   ]
  },
  {
   "cell_type": "code",
   "execution_count": 0,
   "metadata": {
    "colab": {
     "base_uri": "https://localhost:8080/",
     "height": 54
    },
    "colab_type": "code",
    "id": "_Djk9URLwJ-m",
    "outputId": "4e0f7e22-ca27-4d01-9ce9-3c60db7c2c28"
   },
   "outputs": [
    {
     "data": {
      "text/plain": [
       "'It is perhaps just dawning on five or six minds . Yet the most extensive fact of the \\n  circumstances has been been provided after the accident of More \\n  and Bell of Saint fire in whose grace and hatred of \\n  period talk represents their goal : where the populace has grown \\n  and there is well enough with regard to the HIGHER \\n  world of the present school , in whom a number could not , step home , be learnt \\n  to live as maid and lover and of distinction : \\n  hitherto , of course , in speaking hours and habits'"
      ]
     },
     "execution_count": 14,
     "metadata": {
      "tags": []
     },
     "output_type": "execute_result"
    }
   ],
   "source": [
    "learn.predict('It is perhaps just dawning on five or six minds',n_words=100)"
   ]
  },
  {
   "cell_type": "markdown",
   "metadata": {
    "colab_type": "text",
    "id": "uqQ2WuWKwJ-u"
   },
   "source": [
    "## Tokenization and Numericalization\n",
    "The most common preprocessing on NLP tasks in tokenization i.e splitting the sentence into words. This is much easier in space-seperated words like English however, for Japanese we require Morphological Analysis tools to get words from sentences.\n",
    "\n",
    "Numericalizing in the second preprocessing step. Since models can only take numbers as inputs, we make a dictionary mapping unique words to indices and replace the words with the words in the sentence with their corresponding index. Here we limit our dictionary size to 60000 words that appear at least twice in our corpus."
   ]
  },
  {
   "cell_type": "code",
   "execution_count": 0,
   "metadata": {
    "colab": {},
    "colab_type": "code",
    "id": "nppsyhBqxQyT"
   },
   "outputs": [],
   "source": [
    "#Google Colab notes: install dependencies for mecab tokenizer\n",
    "#!sudo apt install swig\n",
    "#!sudo apt install mecab\n",
    "#!sudo apt install libmecab-dev\n",
    "#!sudo apt install mecab-ipadic-utf8\n",
    "#!sudo pip3 install mecab-python3"
   ]
  },
  {
   "cell_type": "code",
   "execution_count": 0,
   "metadata": {
    "colab": {},
    "colab_type": "code",
    "id": "bZvJ9IAkxcGi"
   },
   "outputs": [],
   "source": []
  },
  {
   "cell_type": "code",
   "execution_count": 0,
   "metadata": {
    "colab": {},
    "colab_type": "code",
    "id": "GZKaNpATwJ-u"
   },
   "outputs": [],
   "source": [
    "import re\n",
    "import MeCab\n",
    "\n",
    "tagger = MeCab.Tagger(\"-Owakati\")\n",
    "\n",
    "class MeCabTokenizer(BaseTokenizer):\n",
    "    def __init__(self, lang:str):\n",
    "        self.lang = 'ja'\n",
    "    \n",
    "    def add_special_cases(self, toks:Collection[str]): pass\n",
    "    \n",
    "    def tokenizer(self,raw_sentence):\n",
    "        result = tagger.parse(raw_sentence)\n",
    "        words = result.split()\n",
    "        if len(words) == 0:\n",
    "            return []\n",
    "        if words[-1] == \"\\n\":\n",
    "            words = words[:-1]\n",
    "        return words"
   ]
  },
  {
   "cell_type": "code",
   "execution_count": 0,
   "metadata": {
    "colab": {},
    "colab_type": "code",
    "id": "5t-GgbaowJ_K"
   },
   "outputs": [],
   "source": [
    "tokenizer = Tokenizer(MeCabTokenizer, 'ja')\n",
    "processor = [TokenizeProcessor(tokenizer=tokenizer), NumericalizeProcessor(max_vocab=60000,min_freq=2)]"
   ]
  },
  {
   "cell_type": "markdown",
   "metadata": {
    "colab_type": "text",
    "id": "T7BF02EpwJ-y"
   },
   "source": [
    "## Text Classification\n",
    "One particular area that was challenging until recently with deep learning for NLP, was text classification.\n",
    "\n",
    "Similar to classifying images in text we can also use transfer learning to train accurate classifiers with few training examples. We will leverage weights from a language model trained on a large corpus as our pretrained weights. We will fine-tune the language model to our target dataset, attach a classification layer to our model and train by gradual unfreezing. The text classifying task will be sentiment analysis on Yahoo Movie Reviews. The data can be downloaded from this [repository](https://github.com/dennybritz/sentiment-analysis/tree/master/data)"
   ]
  },
  {
   "cell_type": "code",
   "execution_count": 0,
   "metadata": {
    "colab": {},
    "colab_type": "code",
    "id": "1Ndi1UyJwJ-0"
   },
   "outputs": [],
   "source": [
    "#Google Colab Notes: download data and upload them into your notebook environment\n",
    "#files.upload()"
   ]
  },
  {
   "cell_type": "code",
   "execution_count": 0,
   "metadata": {
    "colab": {},
    "colab_type": "code",
    "id": "udgse3lozEiv"
   },
   "outputs": [],
   "source": [
    "#Google Colab Notes: uncompress data and move to data directory\n",
    "#!tar xvzf yahoo-movie-reviews.json.tar.gz\n"
   ]
  },
  {
   "cell_type": "code",
   "execution_count": 0,
   "metadata": {
    "colab": {},
    "colab_type": "code",
    "id": "URd13SIGwJ-3"
   },
   "outputs": [],
   "source": [
    "def load_ymr_data(path):\n",
    "    with path.open() as f:\n",
    "        data = pd.read_json(f)\n",
    "        data.movieName = data.movieName.str.strip()\n",
    "        data.text = data.text.str.strip()\n",
    "        data.title = data.title.str.strip()\n",
    "        data = data[data.text.str.len() > 0]\n",
    "        data.url = data.url.str.strip()\n",
    "    return data\n",
    "\n",
    "def make_polar(data, balance=True):\n",
    "    data_polar = data.loc[data.rating != 3].copy()\n",
    "    data_polar.loc[data_polar.rating <= 2, 'rating'] = 0\n",
    "    data_polar.loc[data_polar.rating >= 4, 'rating'] = 1\n",
    "    if balance:\n",
    "        # Subsample - We want the same number of positive and negative examples\n",
    "        grouped_ratings = data_polar.groupby('rating')\n",
    "        K = grouped_ratings.rating.count().min()\n",
    "        indices = itertools.chain(\n",
    "            *[np.random.choice(v, K, replace=False) for k, v in grouped_ratings.groups.items()])\n",
    "        data_polar = data_polar.reindex(indices).copy()\n",
    "    return data_polar\n",
    "\n",
    "\n",
    "mov_df = load_ymr_data(path/'yahoo-movie-reviews.json')\n",
    "mov_df_polar = make_polar(mov_df)"
   ]
  },
  {
   "cell_type": "code",
   "execution_count": 0,
   "metadata": {
    "colab": {},
    "colab_type": "code",
    "id": "8jTE7YgUwJ_A"
   },
   "outputs": [],
   "source": [
    "#mov_df_polar.head()"
   ]
  },
  {
   "cell_type": "code",
   "execution_count": 0,
   "metadata": {
    "colab": {},
    "colab_type": "code",
    "id": "1zXLt6RmwJ_R"
   },
   "outputs": [],
   "source": [
    "bs=64"
   ]
  },
  {
   "cell_type": "code",
   "execution_count": 0,
   "metadata": {
    "colab": {},
    "colab_type": "code",
    "id": "BjtxfW2RwJ_Y"
   },
   "outputs": [],
   "source": [
    "data_lm = (TextList.from_df(mov_df_polar,path,cols=['text'],processor=processor)\n",
    "                   .split_by_rand_pct(0.1)\n",
    "                   .label_for_lm()\n",
    "                   .databunch(bs=bs))"
   ]
  },
  {
   "cell_type": "code",
   "execution_count": 0,
   "metadata": {
    "colab": {
     "base_uri": "https://localhost:8080/",
     "height": 293
    },
    "colab_type": "code",
    "id": "8VFZlZJRwJ_g",
    "outputId": "8403edce-33d6-41b3-be0d-c62912449e7b"
   },
   "outputs": [
    {
     "data": {
      "text/html": [
       "<table border=\"1\" class=\"dataframe\">\n",
       "  <thead>\n",
       "    <tr style=\"text-align: right;\">\n",
       "      <th>idx</th>\n",
       "      <th>text</th>\n",
       "    </tr>\n",
       "  </thead>\n",
       "  <tbody>\n",
       "    <tr>\n",
       "      <td>0</td>\n",
       "      <td>とか 、 好き か 嫌い か という 以前 に 、 映画 の 質 そのもの に 疑問 。 日本映画 史 に 残っ て いく はず の 作品 だけ に … … 、 残念 。 とにもかくにも 、 演出 と 脚本 が ひど すぎる 。 言い出し たら 切り が ない ぐらい だ が 、 まずは 、 なんと いう か 、 「 古い 」 。 （ あるいは 、 いわゆる 「 ベタ 」 。 ）</td>\n",
       "    </tr>\n",
       "    <tr>\n",
       "      <td>1</td>\n",
       "      <td>感情 移入 する 人 を 選ぶ な～ と 思い ます 。 いい 子 ばかり が 出る 登場人物 は 、 盛り上がり に も かけ 、 当時 の 洗濯機 や 台所 まわり の 様子 、 風景 を 見 て 、 「 懐かしい わ～ 」 や 「 あの 頃 は ～」 という こと しか 残ら ない 。 テレビ の 2時間 の 枠 の アニメ で 充分 です 。 まわり の 子ども さん は</td>\n",
       "    </tr>\n",
       "    <tr>\n",
       "      <td>2</td>\n",
       "      <td>に は 「 やめ た 方 が いい ！ 」 と 声 を 大 に し て 言い たい ！ ！ 大人 も 子供 も 楽しめ ない 映画 だ と 、 私 は 思い ます ！ 最後 に 余談 です が 、 「 xxunk 」 で この 映画 を 紹介 し た とき に 、 佐 ○ 木 ｱﾅ が 「 私 は これ を 観 て \" xxup et</td>\n",
       "    </tr>\n",
       "    <tr>\n",
       "      <td>3</td>\n",
       "      <td>の 、 偏見 という の は 多かれ 少なかれ ある と 思い ます 。 自分 達 が 美化 さ れ 過ぎ それ に 、 いくら 不遇 な 過去 へ の 孤独感 、 人 と 上手く コミュニケーション が でき ない もどかし さ が ある と は いえ あんな 形 で 、 聾唖 少女 の 痛み を 演じ させる なんて 。 健常者 より も 、 障害 を 持た れる 方 は 、 ずっと</td>\n",
       "    </tr>\n",
       "    <tr>\n",
       "      <td>4</td>\n",
       "      <td>終わり ？ まじ か よ 。 」 「 なに これ ？ こんなに 長い 時間 かけて こんな 終わり ？ 」 って 声 が かなり あり まし た 。 来年 の ４月 に パート ２ が やる よう です が 、 その 頃 に は レンタル で て いる ので 、 今回 は わざわざ お金 だして 見る ほど で も ない です 。 xxbos 直感 で くだらな さ そう な 作品 だ</td>\n",
       "    </tr>\n",
       "  </tbody>\n",
       "</table>"
      ],
      "text/plain": [
       "<IPython.core.display.HTML object>"
      ]
     },
     "metadata": {
      "tags": []
     },
     "output_type": "display_data"
    }
   ],
   "source": [
    "data_lm.show_batch()"
   ]
  },
  {
   "cell_type": "markdown",
   "metadata": {
    "colab_type": "text",
    "id": "_83e7pMewJ_l"
   },
   "source": [
    "We will initialize our model with weights from a language model trained on Japanese Wikipedia. You can download them from [here](https://drive.google.com/open?id=1KRUEV_3R-JVhcftvWJ66rwU7e_EZWtxE) and you need to place the files in the `data/models/` directory"
   ]
  },
  {
   "cell_type": "code",
   "execution_count": 0,
   "metadata": {
    "colab": {},
    "colab_type": "code",
    "id": "axYJrS2jwJ_l"
   },
   "outputs": [],
   "source": [
    "#Google colab notes: upload model files\n",
    "#from google.colab import drive\n",
    "#drive.mount('/content/drive')\n",
    "#!cp /content/drive/My\\ Drive/ja-wiki-awdlstm-model/ja-wiki-itos.pkl \n",
    "#!cp /content/drive/My\\ Drive/ja-wiki-awdlstm-model/ja-wiki.pth ."
   ]
  },
  {
   "cell_type": "code",
   "execution_count": 0,
   "metadata": {
    "colab": {},
    "colab_type": "code",
    "id": "gKzpoyBl8aZi"
   },
   "outputs": [],
   "source": [
    "#!mv ja-wiki-itos.pkl data/models\n",
    "#!mv ja-wiki.pth data/models"
   ]
  },
  {
   "cell_type": "code",
   "execution_count": 0,
   "metadata": {
    "colab": {},
    "colab_type": "code",
    "id": "EDROqQ_xwJ_n"
   },
   "outputs": [],
   "source": [
    "learn = language_model_learner(data_lm, AWD_LSTM,pretrained_fnames=['ja-wiki','ja-wiki-itos'])"
   ]
  },
  {
   "cell_type": "code",
   "execution_count": 0,
   "metadata": {
    "colab": {},
    "colab_type": "code",
    "id": "8t935fGjwJ_p",
    "outputId": "c4cd0e4c-d15c-4814-9df6-03c06c083bd2",
    "scrolled": true
   },
   "outputs": [
    {
     "data": {
      "text/html": [
       "Total time: 04:03 <p><table border=\"1\" class=\"dataframe\">\n",
       "  <thead>\n",
       "    <tr style=\"text-align: left;\">\n",
       "      <th>epoch</th>\n",
       "      <th>train_loss</th>\n",
       "      <th>valid_loss</th>\n",
       "      <th>accuracy</th>\n",
       "      <th>time</th>\n",
       "    </tr>\n",
       "  </thead>\n",
       "  <tbody>\n",
       "    <tr>\n",
       "      <td>0</td>\n",
       "      <td>4.375677</td>\n",
       "      <td>4.124529</td>\n",
       "      <td>0.292882</td>\n",
       "      <td>04:03</td>\n",
       "    </tr>\n",
       "  </tbody>\n",
       "</table>"
      ],
      "text/plain": [
       "<IPython.core.display.HTML object>"
      ]
     },
     "metadata": {
      "tags": []
     },
     "output_type": "display_data"
    }
   ],
   "source": [
    "learn.fit_one_cycle(1,1e-2,moms=(0.7,0.8))"
   ]
  },
  {
   "cell_type": "code",
   "execution_count": 0,
   "metadata": {
    "colab": {},
    "colab_type": "code",
    "id": "85HGj4ATwJ_w",
    "outputId": "9f02dc66-ee30-49e9-a46f-f0bcbde85059"
   },
   "outputs": [
    {
     "data": {
      "text/html": [
       "Total time: 37:12 <p><table border=\"1\" class=\"dataframe\">\n",
       "  <thead>\n",
       "    <tr style=\"text-align: left;\">\n",
       "      <th>epoch</th>\n",
       "      <th>train_loss</th>\n",
       "      <th>valid_loss</th>\n",
       "      <th>accuracy</th>\n",
       "      <th>time</th>\n",
       "    </tr>\n",
       "  </thead>\n",
       "  <tbody>\n",
       "    <tr>\n",
       "      <td>0</td>\n",
       "      <td>4.069916</td>\n",
       "      <td>3.950010</td>\n",
       "      <td>0.312577</td>\n",
       "      <td>04:37</td>\n",
       "    </tr>\n",
       "    <tr>\n",
       "      <td>1</td>\n",
       "      <td>3.984557</td>\n",
       "      <td>3.836064</td>\n",
       "      <td>0.324826</td>\n",
       "      <td>04:37</td>\n",
       "    </tr>\n",
       "    <tr>\n",
       "      <td>2</td>\n",
       "      <td>3.870781</td>\n",
       "      <td>3.762562</td>\n",
       "      <td>0.333079</td>\n",
       "      <td>04:37</td>\n",
       "    </tr>\n",
       "    <tr>\n",
       "      <td>3</td>\n",
       "      <td>3.768262</td>\n",
       "      <td>3.712374</td>\n",
       "      <td>0.338276</td>\n",
       "      <td>04:38</td>\n",
       "    </tr>\n",
       "    <tr>\n",
       "      <td>4</td>\n",
       "      <td>3.714551</td>\n",
       "      <td>3.674273</td>\n",
       "      <td>0.342792</td>\n",
       "      <td>04:39</td>\n",
       "    </tr>\n",
       "    <tr>\n",
       "      <td>5</td>\n",
       "      <td>3.596981</td>\n",
       "      <td>3.647418</td>\n",
       "      <td>0.346149</td>\n",
       "      <td>04:42</td>\n",
       "    </tr>\n",
       "    <tr>\n",
       "      <td>6</td>\n",
       "      <td>3.517474</td>\n",
       "      <td>3.636053</td>\n",
       "      <td>0.347601</td>\n",
       "      <td>04:40</td>\n",
       "    </tr>\n",
       "    <tr>\n",
       "      <td>7</td>\n",
       "      <td>3.468837</td>\n",
       "      <td>3.635810</td>\n",
       "      <td>0.347985</td>\n",
       "      <td>04:39</td>\n",
       "    </tr>\n",
       "  </tbody>\n",
       "</table>"
      ],
      "text/plain": [
       "<IPython.core.display.HTML object>"
      ]
     },
     "metadata": {
      "tags": []
     },
     "output_type": "display_data"
    }
   ],
   "source": [
    "learn.unfreeze()\n",
    "learn.fit_one_cycle(8,3e-3,moms=(0.7,0.8))"
   ]
  },
  {
   "cell_type": "code",
   "execution_count": 0,
   "metadata": {
    "colab": {},
    "colab_type": "code",
    "id": "x2kbsexYwJ_3"
   },
   "outputs": [],
   "source": [
    "learn.save('ymr')\n",
    "learn.save_encoder('ymr_enc')"
   ]
  },
  {
   "cell_type": "code",
   "execution_count": 0,
   "metadata": {
    "colab": {},
    "colab_type": "code",
    "id": "FarNDkEYwJ_7"
   },
   "outputs": [],
   "source": [
    "data_clas = (TextList.from_df(mov_df_polar,path,cols=['text'],vocab=data_lm.vocab,processor=processor)\n",
    "                   .split_by_rand_pct(0.1)\n",
    "                   .label_from_df(cols=['rating'])\n",
    "                   .databunch(bs=bs))"
   ]
  },
  {
   "cell_type": "code",
   "execution_count": 0,
   "metadata": {
    "colab": {},
    "colab_type": "code",
    "id": "a0F0IN2LwJ_9",
    "outputId": "20f1aebe-decc-4669-c64e-7dbed3d83285"
   },
   "outputs": [
    {
     "data": {
      "text/html": [
       "<table border=\"1\" class=\"dataframe\">\n",
       "  <thead>\n",
       "    <tr style=\"text-align: right;\">\n",
       "      <th>text</th>\n",
       "      <th>target</th>\n",
       "    </tr>\n",
       "  </thead>\n",
       "  <tbody>\n",
       "    <tr>\n",
       "      <td>xxbos ・ 過去 の 行い と 罪 の 意識 から 強 さ の 裏 で 自分 の 命 を 軽 ん じ て い た 剣心 が 、 師匠 と 剣 を 交える うち に 「 死に たく ない ！ 」 「 死ね ない ！ 」 と 強く 思い 、 「 生きよう と する 意思 」 に 目覚め た こと で 本当 の 強 さ を 手 に 入れ 、</td>\n",
       "      <td>0</td>\n",
       "    </tr>\n",
       "    <tr>\n",
       "      <td>xxbos 今年 は ジブリ が 輝い て い まし た 。 二 大 巨匠 の 宮崎駿 監督 と 高畑勲 監督 が 、 そろっ て 傑作 を 世に 出し た から でしょ う 。 さて 、 本作 、 物語 の 祖 と も 言わ れる 『 竹取物語 』 を モチーフ と し 、 展開 も ほぼ 原点 に 沿っ た もの と なっ て い ます 。 しかし 、 描か れ</td>\n",
       "      <td>1</td>\n",
       "    </tr>\n",
       "    <tr>\n",
       "      <td>xxbos ターゲット の 夢 から 潜在意識 に 侵入 し 、 カタチ に なる 前 の アイデア を 盗み出す こと を 専門 と する 企業 スパイ 、 コブ （ ｌ ･ ディカプリオ ） は 、 業界 で も 屈指 の 凄腕 で ある 。 ある 事件 が 原因 で 最愛 の 妻 を 失い 、 その 殺人容疑 を かけ られ た 彼 は 、 祖国 に 二人 の 子供 を 残し</td>\n",
       "      <td>1</td>\n",
       "    </tr>\n",
       "    <tr>\n",
       "      <td>xxbos 私 が 思う ” 理想 的 な 悪人 俳優 ” は ショーン・ビーン と xxunk 、 そして xxunk です 。 という こと で 「 悪人 」 です 。 今作 は 「 パレード 」 で 知ら れる 吉田修一 さん の 原作 を 「 フラガール 」 や 「 69 」 を 手掛け た 李 監督 × 主演 に 妻夫木聡 さん × 音楽 を 久石譲 さん と 豪華 スタッフ ・ キャスト で 映像</td>\n",
       "      <td>1</td>\n",
       "    </tr>\n",
       "    <tr>\n",
       "      <td>xxbos 予告 トレーラー を 見 て ワクワク し つつ 、 反面 少し 不安 を 抱え ながら も 鑑賞 。 （ xxup 2d 字幕 ） しかし その 心配 は 杞憂 に 終わっ た ！ 本当に 素晴らしい 映画 だ ！ 新 世代 の 怪獣 xxup sf 映画 と 言える 快 作 （ 怪 作 ） だ 。 巨大 ロボ 「 イェーガー 」 は 無骨 で 重量感 たっぷり 、 まるで 巨大 な 重機</td>\n",
       "      <td>1</td>\n",
       "    </tr>\n",
       "  </tbody>\n",
       "</table>"
      ],
      "text/plain": [
       "<IPython.core.display.HTML object>"
      ]
     },
     "metadata": {
      "tags": []
     },
     "output_type": "display_data"
    }
   ],
   "source": [
    "data_clas.show_batch()"
   ]
  },
  {
   "cell_type": "code",
   "execution_count": 0,
   "metadata": {
    "colab": {},
    "colab_type": "code",
    "id": "3Inr7kPswKAA"
   },
   "outputs": [],
   "source": [
    "learn = text_classifier_learner(data_clas, AWD_LSTM, drop_mult=0.5)\n",
    "learn.load_encoder('ymr_enc')"
   ]
  },
  {
   "cell_type": "code",
   "execution_count": 0,
   "metadata": {
    "colab": {},
    "colab_type": "code",
    "id": "P7TS0BSNwKAF",
    "outputId": "2ec91e71-f483-4245-b36c-615873bbafe0"
   },
   "outputs": [
    {
     "data": {
      "text/html": [
       "Total time: 02:00 <p><table border=\"1\" class=\"dataframe\">\n",
       "  <thead>\n",
       "    <tr style=\"text-align: left;\">\n",
       "      <th>epoch</th>\n",
       "      <th>train_loss</th>\n",
       "      <th>valid_loss</th>\n",
       "      <th>accuracy</th>\n",
       "      <th>time</th>\n",
       "    </tr>\n",
       "  </thead>\n",
       "  <tbody>\n",
       "    <tr>\n",
       "      <td>0</td>\n",
       "      <td>0.314499</td>\n",
       "      <td>0.251305</td>\n",
       "      <td>0.897328</td>\n",
       "      <td>02:00</td>\n",
       "    </tr>\n",
       "  </tbody>\n",
       "</table>"
      ],
      "text/plain": [
       "<IPython.core.display.HTML object>"
      ]
     },
     "metadata": {
      "tags": []
     },
     "output_type": "display_data"
    }
   ],
   "source": [
    "learn.fit_one_cycle(1, 2e-2, moms=(0.8,0.7))"
   ]
  },
  {
   "cell_type": "code",
   "execution_count": 0,
   "metadata": {
    "colab": {},
    "colab_type": "code",
    "id": "RJAXCZlSwKAH",
    "outputId": "26dda342-2958-424a-d548-b15d943233a6"
   },
   "outputs": [
    {
     "data": {
      "text/html": [
       "Total time: 02:14 <p><table border=\"1\" class=\"dataframe\">\n",
       "  <thead>\n",
       "    <tr style=\"text-align: left;\">\n",
       "      <th>epoch</th>\n",
       "      <th>train_loss</th>\n",
       "      <th>valid_loss</th>\n",
       "      <th>accuracy</th>\n",
       "      <th>time</th>\n",
       "    </tr>\n",
       "  </thead>\n",
       "  <tbody>\n",
       "    <tr>\n",
       "      <td>0</td>\n",
       "      <td>0.271490</td>\n",
       "      <td>0.199659</td>\n",
       "      <td>0.923258</td>\n",
       "      <td>02:14</td>\n",
       "    </tr>\n",
       "  </tbody>\n",
       "</table>"
      ],
      "text/plain": [
       "<IPython.core.display.HTML object>"
      ]
     },
     "metadata": {
      "tags": []
     },
     "output_type": "display_data"
    }
   ],
   "source": [
    "learn.freeze_to(-2)\n",
    "learn.fit_one_cycle(1, slice(1e-2/(2.6**4),1e-2), moms=(0.8,0.7))"
   ]
  },
  {
   "cell_type": "code",
   "execution_count": 0,
   "metadata": {
    "colab": {},
    "colab_type": "code",
    "id": "6PTdV7KbwKAI",
    "outputId": "737879f3-9f36-4996-f590-37040bdcbdae"
   },
   "outputs": [
    {
     "data": {
      "text/html": [
       "Total time: 03:40 <p><table border=\"1\" class=\"dataframe\">\n",
       "  <thead>\n",
       "    <tr style=\"text-align: left;\">\n",
       "      <th>epoch</th>\n",
       "      <th>train_loss</th>\n",
       "      <th>valid_loss</th>\n",
       "      <th>accuracy</th>\n",
       "      <th>time</th>\n",
       "    </tr>\n",
       "  </thead>\n",
       "  <tbody>\n",
       "    <tr>\n",
       "      <td>0</td>\n",
       "      <td>0.219154</td>\n",
       "      <td>0.183919</td>\n",
       "      <td>0.928497</td>\n",
       "      <td>03:40</td>\n",
       "    </tr>\n",
       "  </tbody>\n",
       "</table>"
      ],
      "text/plain": [
       "<IPython.core.display.HTML object>"
      ]
     },
     "metadata": {
      "tags": []
     },
     "output_type": "display_data"
    }
   ],
   "source": [
    "learn.freeze_to(-3)\n",
    "learn.fit_one_cycle(1, slice(5e-3/(2.6**4),5e-3), moms=(0.8,0.7))"
   ]
  },
  {
   "cell_type": "code",
   "execution_count": 0,
   "metadata": {
    "colab": {},
    "colab_type": "code",
    "id": "gQrawItHwKAK",
    "outputId": "466392c1-1684-499f-857b-64f7d262f4c9"
   },
   "outputs": [
    {
     "data": {
      "text/html": [
       "Total time: 09:43 <p><table border=\"1\" class=\"dataframe\">\n",
       "  <thead>\n",
       "    <tr style=\"text-align: left;\">\n",
       "      <th>epoch</th>\n",
       "      <th>train_loss</th>\n",
       "      <th>valid_loss</th>\n",
       "      <th>accuracy</th>\n",
       "      <th>time</th>\n",
       "    </tr>\n",
       "  </thead>\n",
       "  <tbody>\n",
       "    <tr>\n",
       "      <td>0</td>\n",
       "      <td>0.193065</td>\n",
       "      <td>0.181743</td>\n",
       "      <td>0.931116</td>\n",
       "      <td>04:57</td>\n",
       "    </tr>\n",
       "    <tr>\n",
       "      <td>1</td>\n",
       "      <td>0.180688</td>\n",
       "      <td>0.182315</td>\n",
       "      <td>0.931378</td>\n",
       "      <td>04:46</td>\n",
       "    </tr>\n",
       "  </tbody>\n",
       "</table>"
      ],
      "text/plain": [
       "<IPython.core.display.HTML object>"
      ]
     },
     "metadata": {
      "tags": []
     },
     "output_type": "display_data"
    }
   ],
   "source": [
    "learn.unfreeze()\n",
    "learn.fit_one_cycle(2, slice(1e-3/(2.6**4),1e-3), moms=(0.8,0.7))"
   ]
  },
  {
   "cell_type": "code",
   "execution_count": 0,
   "metadata": {
    "colab": {},
    "colab_type": "code",
    "id": "cDlz2N7NgWct"
   },
   "outputs": [],
   "source": [
    "learn.save('ymr_clas')"
   ]
  },
  {
   "cell_type": "code",
   "execution_count": 0,
   "metadata": {
    "colab": {},
    "colab_type": "code",
    "id": "gfO83x3ywKAN",
    "outputId": "ab30f0e7-aa40-4a04-dbb8-50432b1b5a0b"
   },
   "outputs": [
    {
     "data": {
      "text/plain": [
       "(Category 1, tensor(1), tensor([0.0094, 0.9906]))"
      ]
     },
     "execution_count": 25,
     "metadata": {
      "tags": []
     },
     "output_type": "execute_result"
    }
   ],
   "source": [
    "learn.predict(\"映画すごかったよ!\")"
   ]
  },
  {
   "cell_type": "code",
   "execution_count": 0,
   "metadata": {
    "colab": {},
    "colab_type": "code",
    "id": "jJDz8-28wKAP",
    "outputId": "489dc15d-99cb-4de6-a164-69aa6c41405a"
   },
   "outputs": [
    {
     "data": {
      "text/plain": [
       "(Category 0, tensor(0), tensor([0.9264, 0.0736]))"
      ]
     },
     "execution_count": 26,
     "metadata": {
      "tags": []
     },
     "output_type": "execute_result"
    }
   ],
   "source": [
    "learn.predict(\"演技が悪い\")"
   ]
  },
  {
   "cell_type": "code",
   "execution_count": 0,
   "metadata": {
    "colab": {},
    "colab_type": "code",
    "id": "xyZC6HMdwKBP",
    "scrolled": true
   },
   "outputs": [],
   "source": [
    "learn.fit_one_cycle(5, 3e-3, moms=(0.7,0.8))"
   ]
  },
  {
   "cell_type": "code",
   "execution_count": 0,
   "metadata": {
    "colab": {},
    "colab_type": "code",
    "id": "DmsVuYICgWea"
   },
   "outputs": [],
   "source": []
  }
 ],
 "metadata": {
  "accelerator": "GPU",
  "colab": {
   "collapsed_sections": [
    "LkXYHQhcwKAU",
    "b0_QNFnPwKBT"
   ],
   "include_colab_link": true,
   "name": "fastai-text-data-examples.ipynb",
   "provenance": [],
   "version": "0.3.2"
  },
  "kernelspec": {
   "display_name": "Python 3",
   "language": "python",
   "name": "python3"
  },
  "language_info": {
   "codemirror_mode": {
    "name": "ipython",
    "version": 3
   },
   "file_extension": ".py",
   "mimetype": "text/x-python",
   "name": "python",
   "nbconvert_exporter": "python",
   "pygments_lexer": "ipython3",
   "version": "3.6.7"
  }
 },
 "nbformat": 4,
 "nbformat_minor": 1
}
