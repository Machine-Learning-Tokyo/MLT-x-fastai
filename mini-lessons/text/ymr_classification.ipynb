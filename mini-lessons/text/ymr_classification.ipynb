{
  "nbformat": 4,
  "nbformat_minor": 0,
  "metadata": {
    "kernelspec": {
      "display_name": "Python 3",
      "language": "python",
      "name": "python3"
    },
    "language_info": {
      "codemirror_mode": {
        "name": "ipython",
        "version": 3
      },
      "file_extension": ".py",
      "mimetype": "text/x-python",
      "name": "python",
      "nbconvert_exporter": "python",
      "pygments_lexer": "ipython3",
      "version": "3.6.8"
    },
    "colab": {
      "name": "ymr_classification.ipynb",
      "version": "0.3.2",
      "provenance": [],
      "include_colab_link": true
    }
  },
  "cells": [
    {
      "cell_type": "markdown",
      "metadata": {
        "id": "view-in-github",
        "colab_type": "text"
      },
      "source": [
        "<a href=\"https://colab.research.google.com/github/Machine-Learning-Tokyo/MLT-x-fastai/blob/master/mini-lessons/text/ymr_classification.ipynb\" target=\"_parent\"><img src=\"https://colab.research.google.com/assets/colab-badge.svg\" alt=\"Open In Colab\"/></a>"
      ]
    },
    {
      "cell_type": "code",
      "metadata": {
        "id": "sTD7xCqqdZNX",
        "colab_type": "code",
        "colab": {}
      },
      "source": [
        "%reload_ext autoreload\n",
        "%autoreload 2\n",
        "%matplotlib inline"
      ],
      "execution_count": 0,
      "outputs": []
    },
    {
      "cell_type": "code",
      "metadata": {
        "id": "bl8mMgPvdZN4",
        "colab_type": "code",
        "colab": {}
      },
      "source": [
        "from fastai import *\n",
        "from fastai.text import *"
      ],
      "execution_count": 0,
      "outputs": []
    },
    {
      "cell_type": "markdown",
      "metadata": {
        "id": "AJVerh6JdZOR",
        "colab_type": "text"
      },
      "source": [
        "## Language Modeling\n",
        "\n",
        "One of the most common tasks done in NLP is called language modeling. A language model is an NLP model which learns to predict the next word in a sentence. We do this is because we assume that if a language model is quite accurate at guessing the next probable word in a sentnce, it needs a lot of world knowledge and a deep understanding of grammar, semantics, and other elements of natural language.\n",
        "\n",
        "We will show how to train a simple language model.\n"
      ]
    },
    {
      "cell_type": "code",
      "metadata": {
        "id": "Sy9Js-0pdZOY",
        "colab_type": "code",
        "colab": {}
      },
      "source": [
        "#install  mecab dependencies\n",
        "#!sudo apt install swig\n",
        "#!sudo apt install mecab\n",
        "#!sudo apt install libmecab-dev\n",
        "#!sudo apt install mecab-ipadic-utf8\n",
        "#!sudo pip3 install mecab-python3"
      ],
      "execution_count": 0,
      "outputs": []
    },
    {
      "cell_type": "code",
      "metadata": {
        "id": "NHOyR3XudZOp",
        "colab_type": "code",
        "colab": {}
      },
      "source": [
        "import re\n",
        "import MeCab\n",
        "\n",
        "tagger = MeCab.Tagger(\"-Owakati\")\n",
        "\n",
        "class MeCabTokenizer(BaseTokenizer):\n",
        "    def __init__(self, lang:str):\n",
        "        self.lang = 'ja'\n",
        "    \n",
        "    def add_special_cases(self, toks:Collection[str]): pass\n",
        "    \n",
        "    def tokenizer(self,raw_sentence):\n",
        "        result = tagger.parse(raw_sentence)\n",
        "        words = result.split()\n",
        "        if len(words) == 0:\n",
        "            return []\n",
        "        if words[-1] == \"\\n\":\n",
        "            words = words[:-1]\n",
        "        return words"
      ],
      "execution_count": 0,
      "outputs": []
    },
    {
      "cell_type": "markdown",
      "metadata": {
        "id": "ODK8iBwhdZO6",
        "colab_type": "text"
      },
      "source": [
        "## Tokenization and Numericalization\n",
        "\n",
        "The most common preprocessing on NLP tasks in tokenization i.e splitting the sentence into words. This is much easier in space-seperated words like English however, for Japanese we require Morphological Analysis tools to get words from sentences.\n",
        "\n",
        "Numericalizing in the second preprocessing step. Since models can only take numbers as inputs, we make a dictionary mapping unique words to indices and replace the words with the words in the sentence with their corresponding index. Here we limit our dictionary size to 60000 words that appear at least twice in our corpus.\n"
      ]
    },
    {
      "cell_type": "code",
      "metadata": {
        "id": "kAZ60tXYdZPA",
        "colab_type": "code",
        "colab": {}
      },
      "source": [
        "tokenizer = Tokenizer(MeCabTokenizer, 'ja')\n",
        "processor = [TokenizeProcessor(tokenizer=tokenizer), NumericalizeProcessor(max_vocab=60000,min_freq=2)]"
      ],
      "execution_count": 0,
      "outputs": []
    },
    {
      "cell_type": "code",
      "metadata": {
        "id": "ecCbXBp_dZPO",
        "colab_type": "code",
        "colab": {}
      },
      "source": [
        "#get data\n",
        "#!wget https://github.com/dennybritz/sentiment-analysis/raw/master/data/yahoo-movie-reviews.json.tar.gz\n",
        "#!mkdir data\n",
        "#!tar xvzf yahoo-movie-reviews.json.tar.gz"
      ],
      "execution_count": 0,
      "outputs": []
    },
    {
      "cell_type": "code",
      "metadata": {
        "id": "x6Ypx_74dZPo",
        "colab_type": "code",
        "colab": {}
      },
      "source": [
        "path = Path(\"data\")"
      ],
      "execution_count": 0,
      "outputs": []
    },
    {
      "cell_type": "code",
      "metadata": {
        "id": "T2QKVGA8dZP7",
        "colab_type": "code",
        "colab": {},
        "outputId": "fdaa69dc-20d8-454b-abc8-de3affaf1298"
      },
      "source": [
        "\n",
        "def load_ymr_data(path):\n",
        "    with path.open() as f:\n",
        "        data = pd.read_json(f)\n",
        "        data.movieName = data.movieName.str.strip()\n",
        "        data.text = data.text.str.strip()\n",
        "        data.title = data.title.str.strip()\n",
        "        data = data[data.text.str.len() > 0]\n",
        "        data.url = data.url.str.strip()\n",
        "    return data\n",
        "\n",
        "def make_polar(data, balance=True):\n",
        "    data_polar = data.loc[data.rating != 3].copy()\n",
        "    data_polar.loc[data_polar.rating <= 2, 'rating'] = 0\n",
        "    data_polar.loc[data_polar.rating >= 4, 'rating'] = 1\n",
        "    if balance:\n",
        "        # Subsample - We want the same number of positive and negative examples\n",
        "        grouped_ratings = data_polar.groupby('rating')\n",
        "        K = grouped_ratings.rating.count().min()\n",
        "        indices = itertools.chain(\n",
        "            *[np.random.choice(v, K, replace=False) for k, v in grouped_ratings.groups.items()])\n",
        "        data_polar = data_polar.reindex(indices).copy()\n",
        "    return data_polar\n",
        "\n",
        "\n",
        "mov_df = load_ymr_data(path/'yahoo-movie-reviews.json')\n",
        "mov_df_polar = make_polar(mov_df)\n",
        "mov_df_polar.head()"
      ],
      "execution_count": 0,
      "outputs": [
        {
          "output_type": "execute_result",
          "data": {
            "text/html": [
              "<div>\n",
              "<style scoped>\n",
              "    .dataframe tbody tr th:only-of-type {\n",
              "        vertical-align: middle;\n",
              "    }\n",
              "\n",
              "    .dataframe tbody tr th {\n",
              "        vertical-align: top;\n",
              "    }\n",
              "\n",
              "    .dataframe thead th {\n",
              "        text-align: right;\n",
              "    }\n",
              "</style>\n",
              "<table border=\"1\" class=\"dataframe\">\n",
              "  <thead>\n",
              "    <tr style=\"text-align: right;\">\n",
              "      <th></th>\n",
              "      <th>movieName</th>\n",
              "      <th>movieUrl</th>\n",
              "      <th>url</th>\n",
              "      <th>title</th>\n",
              "      <th>date</th>\n",
              "      <th>text</th>\n",
              "      <th>rating</th>\n",
              "    </tr>\n",
              "  </thead>\n",
              "  <tbody>\n",
              "    <tr>\n",
              "      <th>59664</th>\n",
              "      <td>レッドクリフ Part I</td>\n",
              "      <td>http://movies.yahoo.co.jp/movie/%E3%83%AC%E3%8...</td>\n",
              "      <td>http://movies.yahoo.co.jp/movie/%E3%83%AC%E3%8...</td>\n",
              "      <td>ワールドワイドだとしても</td>\n",
              "      <td>2009年4月12日 0時30分</td>\n",
              "      <td>こんなに薄っぺらい三国志は初めてだ。\\n曹操が女だけが目的であるかのような描き方、もちろんそ...</td>\n",
              "      <td>0</td>\n",
              "    </tr>\n",
              "    <tr>\n",
              "      <th>32141</th>\n",
              "      <td>スラムドッグ＄ミリオネア</td>\n",
              "      <td>http://movies.yahoo.co.jp/movie/%E3%82%B9%E3%8...</td>\n",
              "      <td>http://movies.yahoo.co.jp/movie/%E3%82%B9%E3%8...</td>\n",
              "      <td>化粧版仕立てのあんちょこ話</td>\n",
              "      <td>2009年5月2日 3時44分</td>\n",
              "      <td>書く気持ちは無かった　だって・・腹を立てる程のレベルでもなかったんで・・\\nほんっとに　述べ...</td>\n",
              "      <td>0</td>\n",
              "    </tr>\n",
              "    <tr>\n",
              "      <th>68237</th>\n",
              "      <td>悪人</td>\n",
              "      <td>http://movies.yahoo.co.jp/movie/%E6%82%AA%E4%B...</td>\n",
              "      <td>http://movies.yahoo.co.jp/movie/%E6%82%AA%E4%B...</td>\n",
              "      <td>う～ん</td>\n",
              "      <td>2011年11月6日 23時43分</td>\n",
              "      <td>賞取ってみたり、話題になった割には何か偏った内容で納得行かない。\\n\\n殺された子が、いかに...</td>\n",
              "      <td>0</td>\n",
              "    </tr>\n",
              "    <tr>\n",
              "      <th>18182</th>\n",
              "      <td>インディ・ジョーンズ／クリスタル・スカルの王国</td>\n",
              "      <td>http://movies.yahoo.co.jp/movie/%E3%82%A4%E3%8...</td>\n",
              "      <td>http://movies.yahoo.co.jp/movie/%E3%82%A4%E3%8...</td>\n",
              "      <td>別物</td>\n",
              "      <td>2008年7月20日 20時56分</td>\n",
              "      <td>別物として観れば星ひとつで観れる。</td>\n",
              "      <td>0</td>\n",
              "    </tr>\n",
              "    <tr>\n",
              "      <th>52213</th>\n",
              "      <td>ブラック・スワン</td>\n",
              "      <td>http://movies.yahoo.co.jp/movie/%E3%83%96%E3%8...</td>\n",
              "      <td>http://movies.yahoo.co.jp/movie/%E3%83%96%E3%8...</td>\n",
              "      <td>高評価過ぎませんか？？</td>\n",
              "      <td>2011年5月15日 20時22分</td>\n",
              "      <td>確かに、大画面、大音響でのバレエシーンは迫力がありましたが、はっきり言って私にはそれだけでし...</td>\n",
              "      <td>0</td>\n",
              "    </tr>\n",
              "  </tbody>\n",
              "</table>\n",
              "</div>"
            ],
            "text/plain": [
              "                     movieName  \\\n",
              "59664            レッドクリフ Part I   \n",
              "32141             スラムドッグ＄ミリオネア   \n",
              "68237                       悪人   \n",
              "18182  インディ・ジョーンズ／クリスタル・スカルの王国   \n",
              "52213                 ブラック・スワン   \n",
              "\n",
              "                                                movieUrl  \\\n",
              "59664  http://movies.yahoo.co.jp/movie/%E3%83%AC%E3%8...   \n",
              "32141  http://movies.yahoo.co.jp/movie/%E3%82%B9%E3%8...   \n",
              "68237  http://movies.yahoo.co.jp/movie/%E6%82%AA%E4%B...   \n",
              "18182  http://movies.yahoo.co.jp/movie/%E3%82%A4%E3%8...   \n",
              "52213  http://movies.yahoo.co.jp/movie/%E3%83%96%E3%8...   \n",
              "\n",
              "                                                     url          title  \\\n",
              "59664  http://movies.yahoo.co.jp/movie/%E3%83%AC%E3%8...   ワールドワイドだとしても   \n",
              "32141  http://movies.yahoo.co.jp/movie/%E3%82%B9%E3%8...  化粧版仕立てのあんちょこ話   \n",
              "68237  http://movies.yahoo.co.jp/movie/%E6%82%AA%E4%B...            う～ん   \n",
              "18182  http://movies.yahoo.co.jp/movie/%E3%82%A4%E3%8...             別物   \n",
              "52213  http://movies.yahoo.co.jp/movie/%E3%83%96%E3%8...    高評価過ぎませんか？？   \n",
              "\n",
              "                    date                                               text  \\\n",
              "59664   2009年4月12日 0時30分  こんなに薄っぺらい三国志は初めてだ。\\n曹操が女だけが目的であるかのような描き方、もちろんそ...   \n",
              "32141    2009年5月2日 3時44分  書く気持ちは無かった　だって・・腹を立てる程のレベルでもなかったんで・・\\nほんっとに　述べ...   \n",
              "68237  2011年11月6日 23時43分  賞取ってみたり、話題になった割には何か偏った内容で納得行かない。\\n\\n殺された子が、いかに...   \n",
              "18182  2008年7月20日 20時56分                                  別物として観れば星ひとつで観れる。   \n",
              "52213  2011年5月15日 20時22分  確かに、大画面、大音響でのバレエシーンは迫力がありましたが、はっきり言って私にはそれだけでし...   \n",
              "\n",
              "       rating  \n",
              "59664       0  \n",
              "32141       0  \n",
              "68237       0  \n",
              "18182       0  \n",
              "52213       0  "
            ]
          },
          "metadata": {
            "tags": []
          },
          "execution_count": 14
        }
      ]
    },
    {
      "cell_type": "code",
      "metadata": {
        "id": "YNOCF0z7dZQZ",
        "colab_type": "code",
        "colab": {},
        "outputId": "6bdaeab4-d653-4797-968b-e231a83b8539"
      },
      "source": [
        "sample_df = mov_df_polar.sample(n=1000,replace=True)\n",
        "sample_df.head()"
      ],
      "execution_count": 0,
      "outputs": [
        {
          "output_type": "execute_result",
          "data": {
            "text/html": [
              "<div>\n",
              "<style scoped>\n",
              "    .dataframe tbody tr th:only-of-type {\n",
              "        vertical-align: middle;\n",
              "    }\n",
              "\n",
              "    .dataframe tbody tr th {\n",
              "        vertical-align: top;\n",
              "    }\n",
              "\n",
              "    .dataframe thead th {\n",
              "        text-align: right;\n",
              "    }\n",
              "</style>\n",
              "<table border=\"1\" class=\"dataframe\">\n",
              "  <thead>\n",
              "    <tr style=\"text-align: right;\">\n",
              "      <th></th>\n",
              "      <th>movieName</th>\n",
              "      <th>movieUrl</th>\n",
              "      <th>url</th>\n",
              "      <th>title</th>\n",
              "      <th>date</th>\n",
              "      <th>text</th>\n",
              "      <th>rating</th>\n",
              "    </tr>\n",
              "  </thead>\n",
              "  <tbody>\n",
              "    <tr>\n",
              "      <th>58075</th>\n",
              "      <td>ミスト</td>\n",
              "      <td>http://movies.yahoo.co.jp/movie/%E3%83%9F%E3%8...</td>\n",
              "      <td>http://movies.yahoo.co.jp/movie/%E3%83%9F%E3%8...</td>\n",
              "      <td>怖い</td>\n",
              "      <td>2014年2月3日 1時14分</td>\n",
              "      <td>スティーブン・キング原作のこの物語は、キングが30歳頃の時に書かれた作品で、書き直しを数度経...</td>\n",
              "      <td>1</td>\n",
              "    </tr>\n",
              "    <tr>\n",
              "      <th>41953</th>\n",
              "      <td>トランスフォーマー</td>\n",
              "      <td>http://movies.yahoo.co.jp/movie/%E3%83%88%E3%8...</td>\n",
              "      <td>http://movies.yahoo.co.jp/movie/%E3%83%88%E3%8...</td>\n",
              "      <td>映像ド迫力!!</td>\n",
              "      <td>2007年8月10日 14時26分</td>\n",
              "      <td>映像ド迫力！\\nトランスフォームしてるところがガチャガチャしすぎて目が痛い感じだけど、ストー...</td>\n",
              "      <td>1</td>\n",
              "    </tr>\n",
              "    <tr>\n",
              "      <th>44173</th>\n",
              "      <td>バベル</td>\n",
              "      <td>http://movies.yahoo.co.jp/movie/%E3%83%90%E3%8...</td>\n",
              "      <td>http://movies.yahoo.co.jp/movie/%E3%83%90%E3%8...</td>\n",
              "      <td>日本の女子高生はこんなに破廉恥か？</td>\n",
              "      <td>2007年5月4日 23時47分</td>\n",
              "      <td>バベルという題名から、異なる”言語”と”国又は民族がテーマなのだろうと言う事は想像がつきまし...</td>\n",
              "      <td>0</td>\n",
              "    </tr>\n",
              "    <tr>\n",
              "      <th>164</th>\n",
              "      <td>おくりびと</td>\n",
              "      <td>http://movies.yahoo.co.jp/movie/%E3%81%8A%E3%8...</td>\n",
              "      <td>http://movies.yahoo.co.jp/movie/%E3%81%8A%E3%8...</td>\n",
              "      <td>おくられびと</td>\n",
              "      <td>2008年9月13日 21時46分</td>\n",
              "      <td>客層がとても高くて驚きました。平均年齢６５歳以上でした。しかもほぼ満席。\\nみなさん、もしや...</td>\n",
              "      <td>1</td>\n",
              "    </tr>\n",
              "    <tr>\n",
              "      <th>34284</th>\n",
              "      <td>ゼロ・グラビティ</td>\n",
              "      <td>http://movies.yahoo.co.jp/movie/%E3%82%BC%E3%8...</td>\n",
              "      <td>http://movies.yahoo.co.jp/movie/%E3%82%BC%E3%8...</td>\n",
              "      <td>所詮ハリウッド映画</td>\n",
              "      <td>2014年1月2日 12時55分</td>\n",
              "      <td>ある程度、SFや宇宙飛行に詳しい人が見るとガッカリします。\\n「プラネテス」ぐらいのリアリテ...</td>\n",
              "      <td>0</td>\n",
              "    </tr>\n",
              "  </tbody>\n",
              "</table>\n",
              "</div>"
            ],
            "text/plain": [
              "       movieName                                           movieUrl  \\\n",
              "58075        ミスト  http://movies.yahoo.co.jp/movie/%E3%83%9F%E3%8...   \n",
              "41953  トランスフォーマー  http://movies.yahoo.co.jp/movie/%E3%83%88%E3%8...   \n",
              "44173        バベル  http://movies.yahoo.co.jp/movie/%E3%83%90%E3%8...   \n",
              "164        おくりびと  http://movies.yahoo.co.jp/movie/%E3%81%8A%E3%8...   \n",
              "34284   ゼロ・グラビティ  http://movies.yahoo.co.jp/movie/%E3%82%BC%E3%8...   \n",
              "\n",
              "                                                     url              title  \\\n",
              "58075  http://movies.yahoo.co.jp/movie/%E3%83%9F%E3%8...                 怖い   \n",
              "41953  http://movies.yahoo.co.jp/movie/%E3%83%88%E3%8...            映像ド迫力!!   \n",
              "44173  http://movies.yahoo.co.jp/movie/%E3%83%90%E3%8...  日本の女子高生はこんなに破廉恥か？   \n",
              "164    http://movies.yahoo.co.jp/movie/%E3%81%8A%E3%8...             おくられびと   \n",
              "34284  http://movies.yahoo.co.jp/movie/%E3%82%BC%E3%8...          所詮ハリウッド映画   \n",
              "\n",
              "                    date                                               text  \\\n",
              "58075    2014年2月3日 1時14分  スティーブン・キング原作のこの物語は、キングが30歳頃の時に書かれた作品で、書き直しを数度経...   \n",
              "41953  2007年8月10日 14時26分  映像ド迫力！\\nトランスフォームしてるところがガチャガチャしすぎて目が痛い感じだけど、ストー...   \n",
              "44173   2007年5月4日 23時47分  バベルという題名から、異なる”言語”と”国又は民族がテーマなのだろうと言う事は想像がつきまし...   \n",
              "164    2008年9月13日 21時46分  客層がとても高くて驚きました。平均年齢６５歳以上でした。しかもほぼ満席。\\nみなさん、もしや...   \n",
              "34284   2014年1月2日 12時55分  ある程度、SFや宇宙飛行に詳しい人が見るとガッカリします。\\n「プラネテス」ぐらいのリアリテ...   \n",
              "\n",
              "       rating  \n",
              "58075       1  \n",
              "41953       1  \n",
              "44173       0  \n",
              "164         1  \n",
              "34284       0  "
            ]
          },
          "metadata": {
            "tags": []
          },
          "execution_count": 18
        }
      ]
    },
    {
      "cell_type": "code",
      "metadata": {
        "id": "waG4nI5IdZQ-",
        "colab_type": "code",
        "colab": {},
        "outputId": "61b9edfc-5c58-4bea-b438-de89ccd1c9cd"
      },
      "source": [
        "len(sample_df[sample_df[\"rating\"]==0])"
      ],
      "execution_count": 0,
      "outputs": [
        {
          "output_type": "execute_result",
          "data": {
            "text/plain": [
              "483"
            ]
          },
          "metadata": {
            "tags": []
          },
          "execution_count": 19
        }
      ]
    },
    {
      "cell_type": "code",
      "metadata": {
        "id": "Qu8OzmcedZRP",
        "colab_type": "code",
        "colab": {},
        "outputId": "480b7ebb-92ee-4207-d77e-7c453d5cb5be"
      },
      "source": [
        "len(sample_df)"
      ],
      "execution_count": 0,
      "outputs": [
        {
          "output_type": "execute_result",
          "data": {
            "text/plain": [
              "1000"
            ]
          },
          "metadata": {
            "tags": []
          },
          "execution_count": 20
        }
      ]
    },
    {
      "cell_type": "code",
      "metadata": {
        "id": "zma83DJEdZRi",
        "colab_type": "code",
        "colab": {}
      },
      "source": [
        "data_lm = (TextList.from_df(sample_df,path,cols='text',processor=processor)\n",
        "                .split_by_rand_pct()\n",
        "                .label_for_lm()\n",
        "                .databunch())"
      ],
      "execution_count": 0,
      "outputs": []
    },
    {
      "cell_type": "code",
      "metadata": {
        "id": "lGM7-_rGdZRv",
        "colab_type": "code",
        "colab": {},
        "outputId": "5397f03b-003e-4c39-8e7a-0ac52367ecaa"
      },
      "source": [
        "data_lm.show_batch()"
      ],
      "execution_count": 0,
      "outputs": [
        {
          "output_type": "display_data",
          "data": {
            "text/html": [
              "<table border=\"1\" class=\"dataframe\">\n",
              "  <thead>\n",
              "    <tr style=\"text-align: right;\">\n",
              "      <th>idx</th>\n",
              "      <th>text</th>\n",
              "    </tr>\n",
              "  </thead>\n",
              "  <tbody>\n",
              "    <tr>\n",
              "      <td>0</td>\n",
              "      <td>は 「 霧 の 中 」 という 題名 だっ た よう に 記憶 し て い ます 。 この 後 、 1980 年 以後 は 「 霧 」 で xxunk さ れ て いる よう です 。 キング が 乗り に 乗っ て い た の は 、 やはり 30 歳 台 で 、 この 時期 に 活き の 良い 作品 を xxunk まし た 。 「 霧 」 は</td>\n",
              "    </tr>\n",
              "    <tr>\n",
              "      <td>1</td>\n",
              "      <td>の かも しれ ませ ん 。 宮崎 駿 さん の 作品 に は 感じる こと の ない 自分 の 気持ち を 置い て け ぼり に さ れ た 、 なんだか とっても 不思議 な 気持ち に なり まし た 。 xxbos ちょっと 興奮 冷め やら ぬ 状態 で 書き ます が * 1 、 『 ベイ マックス 』 が とにかく 最高 だっ た ！ ！ ！ 原作 は マーベルコミック の</td>\n",
              "    </tr>\n",
              "    <tr>\n",
              "      <td>2</td>\n",
              "      <td>な 方 は 大体 亡くなっ た ので 後編 の キャスト に 期待 し ます 。 xxbos まぁ 、 予告編 とか 、 いっぱい ある けど 、 何 も 言わ ず に まず は 見 ましょ う 。 日本 映画 が ダメ だ と 思っ てる 人 も 、 まず 見 て み ましょ う 。 絶対 、 涙腺 に くる はず です 。 xxbos もう 絶対 と いっ て xxunk ませ</td>\n",
              "    </tr>\n",
              "    <tr>\n",
              "      <td>3</td>\n",
              "      <td>【 主人公 の 妄想 だっ た という 結末 】 は 、 そう xxunk れ て いる だけ な の かも ？ そう なる と 、 xxunk 宣伝 や 予告 も 嘘 で は なくなっ て くる 。 xxunk 、 xxunk 制作 者 の 意図 に はまっ て しまっ た か ・ ・ ・ 。 xxbos 正直 期待 はずれ でし た 。 戦争 の 実写 映像 見 てる 方 が よっぽど</td>\n",
              "    </tr>\n",
              "    <tr>\n",
              "      <td>4</td>\n",
              "      <td>動機 は はっきり し ませ ん が 、 竹中 裁判官 は 「 xxunk 公害 xxunk 」 など 、 住民 寄り の 判決 を 出す こと で 有名 な 方 だっ た こと から 見え ない 圧力 の 存在 を xxunk し て しまい ます 。 公務員 で ある 彼ら にとって 国家 権力 に xxunk を xxunk こと は xxunk 知れ ない xxunk が ある こと は 確か だ と 思い</td>\n",
              "    </tr>\n",
              "  </tbody>\n",
              "</table>"
            ],
            "text/plain": [
              "<IPython.core.display.HTML object>"
            ]
          },
          "metadata": {
            "tags": []
          }
        }
      ]
    },
    {
      "cell_type": "code",
      "metadata": {
        "id": "80OtQMLudZR-",
        "colab_type": "code",
        "colab": {}
      },
      "source": [
        "config = awd_lstm_lm_config.copy()\n",
        "config[\"n_hid\"] = 1150"
      ],
      "execution_count": 0,
      "outputs": []
    },
    {
      "cell_type": "code",
      "metadata": {
        "id": "IjPM2Wbsdiok",
        "colab_type": "code",
        "colab": {}
      },
      "source": [
        "#mounting your drive\n",
        "#from google.colab import drive\n",
        "#drive.mount('/content/gdrive')"
      ],
      "execution_count": 0,
      "outputs": []
    },
    {
      "cell_type": "markdown",
      "metadata": {
        "id": "uhg9NiyNdmnR",
        "colab_type": "text"
      },
      "source": [
        "You can download the pretrained model file from this [link](https://drive.google.com/open?id=1KRUEV_3R-JVhcftvWJ66rwU7e_EZWtxE). Make sure to put them in your `path/models/` folder."
      ]
    },
    {
      "cell_type": "code",
      "metadata": {
        "id": "_KbVfyAFdZSD",
        "colab_type": "code",
        "colab": {}
      },
      "source": [
        "learn = language_model_learner(data_lm,arch=AWD_LSTM,config=config,\n",
        "                               drop_mult=0.3,pretrained_fnames=['ja-wiki','ja-wiki-itos'])"
      ],
      "execution_count": 0,
      "outputs": []
    },
    {
      "cell_type": "code",
      "metadata": {
        "id": "J7zEpXf3dZST",
        "colab_type": "code",
        "colab": {},
        "outputId": "936810e5-672f-4f88-9b66-1bd6c5b5b676"
      },
      "source": [
        "learn.lr_find()\n",
        "learn.recorder.plot(skip_end=15)"
      ],
      "execution_count": 0,
      "outputs": [
        {
          "output_type": "display_data",
          "data": {
            "text/html": [
              ""
            ],
            "text/plain": [
              "<IPython.core.display.HTML object>"
            ]
          },
          "metadata": {
            "tags": []
          }
        },
        {
          "output_type": "stream",
          "text": [
            "LR Finder is complete, type {learner_name}.recorder.plot() to see the graph.\n"
          ],
          "name": "stdout"
        },
        {
          "output_type": "display_data",
          "data": {
            "image/png": "[encoded data removed]",
            "text/plain": [
              "<Figure size 432x288 with 1 Axes>"
            ]
          },
          "metadata": {
            "tags": [],
            "needs_background": "light"
          }
        }
      ]
    },
    {
      "cell_type": "code",
      "metadata": {
        "id": "8MKiFMdadZSl",
        "colab_type": "code",
        "colab": {},
        "outputId": "9073fcb6-1543-413d-b8ea-7c981e70339d"
      },
      "source": [
        "learn.fit_one_cycle(1, 1e-2, moms=(0.8,0.7))"
      ],
      "execution_count": 0,
      "outputs": [
        {
          "output_type": "display_data",
          "data": {
            "text/html": [
              "<table border=\"1\" class=\"dataframe\">\n",
              "  <thead>\n",
              "    <tr style=\"text-align: left;\">\n",
              "      <th>epoch</th>\n",
              "      <th>train_loss</th>\n",
              "      <th>valid_loss</th>\n",
              "      <th>accuracy</th>\n",
              "      <th>time</th>\n",
              "    </tr>\n",
              "  </thead>\n",
              "  <tbody>\n",
              "    <tr>\n",
              "      <td>0</td>\n",
              "      <td>4.524120</td>\n",
              "      <td>4.142681</td>\n",
              "      <td>0.273270</td>\n",
              "      <td>00:03</td>\n",
              "    </tr>\n",
              "  </tbody>\n",
              "</table>"
            ],
            "text/plain": [
              "<IPython.core.display.HTML object>"
            ]
          },
          "metadata": {
            "tags": []
          }
        }
      ]
    },
    {
      "cell_type": "code",
      "metadata": {
        "id": "QBOiCkhodZS2",
        "colab_type": "code",
        "colab": {},
        "outputId": "1f684ad0-4e9c-4ce2-cf46-e04759f7c7c5"
      },
      "source": [
        "learn.unfreeze()\n",
        "learn.fit_one_cycle(10, 1e-3, moms=(0.8,0.7))"
      ],
      "execution_count": 0,
      "outputs": [
        {
          "output_type": "display_data",
          "data": {
            "text/html": [
              "<table border=\"1\" class=\"dataframe\">\n",
              "  <thead>\n",
              "    <tr style=\"text-align: left;\">\n",
              "      <th>epoch</th>\n",
              "      <th>train_loss</th>\n",
              "      <th>valid_loss</th>\n",
              "      <th>accuracy</th>\n",
              "      <th>time</th>\n",
              "    </tr>\n",
              "  </thead>\n",
              "  <tbody>\n",
              "    <tr>\n",
              "      <td>0</td>\n",
              "      <td>4.225604</td>\n",
              "      <td>4.092703</td>\n",
              "      <td>0.277958</td>\n",
              "      <td>00:05</td>\n",
              "    </tr>\n",
              "    <tr>\n",
              "      <td>1</td>\n",
              "      <td>4.168275</td>\n",
              "      <td>4.006522</td>\n",
              "      <td>0.283817</td>\n",
              "      <td>00:05</td>\n",
              "    </tr>\n",
              "    <tr>\n",
              "      <td>2</td>\n",
              "      <td>4.076260</td>\n",
              "      <td>3.939052</td>\n",
              "      <td>0.290765</td>\n",
              "      <td>00:05</td>\n",
              "    </tr>\n",
              "    <tr>\n",
              "      <td>3</td>\n",
              "      <td>3.952452</td>\n",
              "      <td>3.894985</td>\n",
              "      <td>0.294587</td>\n",
              "      <td>00:05</td>\n",
              "    </tr>\n",
              "    <tr>\n",
              "      <td>4</td>\n",
              "      <td>3.809502</td>\n",
              "      <td>3.870207</td>\n",
              "      <td>0.295592</td>\n",
              "      <td>00:05</td>\n",
              "    </tr>\n",
              "    <tr>\n",
              "      <td>5</td>\n",
              "      <td>3.667592</td>\n",
              "      <td>3.866823</td>\n",
              "      <td>0.294196</td>\n",
              "      <td>00:05</td>\n",
              "    </tr>\n",
              "    <tr>\n",
              "      <td>6</td>\n",
              "      <td>3.523893</td>\n",
              "      <td>3.872233</td>\n",
              "      <td>0.293694</td>\n",
              "      <td>00:05</td>\n",
              "    </tr>\n",
              "    <tr>\n",
              "      <td>7</td>\n",
              "      <td>3.403836</td>\n",
              "      <td>3.878788</td>\n",
              "      <td>0.293359</td>\n",
              "      <td>00:05</td>\n",
              "    </tr>\n",
              "    <tr>\n",
              "      <td>8</td>\n",
              "      <td>3.322362</td>\n",
              "      <td>3.887154</td>\n",
              "      <td>0.292690</td>\n",
              "      <td>00:05</td>\n",
              "    </tr>\n",
              "    <tr>\n",
              "      <td>9</td>\n",
              "      <td>3.260335</td>\n",
              "      <td>3.889102</td>\n",
              "      <td>0.292271</td>\n",
              "      <td>00:05</td>\n",
              "    </tr>\n",
              "  </tbody>\n",
              "</table>"
            ],
            "text/plain": [
              "<IPython.core.display.HTML object>"
            ]
          },
          "metadata": {
            "tags": []
          }
        }
      ]
    },
    {
      "cell_type": "code",
      "metadata": {
        "id": "jxW6YRrJdZTF",
        "colab_type": "code",
        "colab": {}
      },
      "source": [
        "learn.save_encoder(\"encoder\")"
      ],
      "execution_count": 0,
      "outputs": []
    },
    {
      "cell_type": "code",
      "metadata": {
        "id": "Yev0gE6MdZTS",
        "colab_type": "code",
        "colab": {},
        "outputId": "01c07889-7cd7-4aae-b0d6-ebe03ccb1f51"
      },
      "source": [
        "learn.predict(\"この映画を見て思ったのは\", 70)"
      ],
      "execution_count": 0,
      "outputs": [
        {
          "output_type": "execute_result",
          "data": {
            "text/plain": [
              "'この映画を見て思ったのは 「 もっと 大 成功 だっ た ！ 」 と 思っ た と 思い ます 。 自分 の 年齢 が わから ず に 生まれ た 年代 が まだ 読め て い ない 。 そして 最後 の 世代 は すでに 300 歳 以上 の 年齢 しか あり ませ ん でし た 、 （ 19 全体 の 年齢 不明 ） 20 歳 物語 で は 、 大人 に なっ た 数 年 前'"
            ]
          },
          "metadata": {
            "tags": []
          },
          "execution_count": 35
        }
      ]
    },
    {
      "cell_type": "markdown",
      "metadata": {
        "id": "rhPikwIIdZTh",
        "colab_type": "text"
      },
      "source": [
        "## Text Classification\n",
        "\n",
        "One particular area that was challenging until recently with deep learning for NLP, was text classification.\n",
        "\n",
        "Similar to classifying images in text we can also use transfer learning to train accurate classifiers with few training examples. We will leverage weights from a language model trained on a large corpus as our pretrained weights. We will fine-tune the language model to our target dataset, attach a classification layer to our model and train by gradual unfreezing. The text classifying task will be sentiment analysis on Yahoo Movie Reviews.\n"
      ]
    },
    {
      "cell_type": "code",
      "metadata": {
        "id": "_ynPAn-vdZTk",
        "colab_type": "code",
        "colab": {}
      },
      "source": [
        "data_clas = (TextList.from_df(sample_df,path,cols=\"text\",vocab=data_lm.vocab,processor=processor)\n",
        "             .split_by_rand_pct()\n",
        "             .label_from_df(\"rating\")\n",
        "             .databunch())"
      ],
      "execution_count": 0,
      "outputs": []
    },
    {
      "cell_type": "code",
      "metadata": {
        "id": "kyGHodHDdZT2",
        "colab_type": "code",
        "colab": {},
        "outputId": "2eb59c06-7598-4cd0-8353-df48e2fd1484"
      },
      "source": [
        "data_clas.show_batch()"
      ],
      "execution_count": 0,
      "outputs": [
        {
          "output_type": "display_data",
          "data": {
            "text/html": [
              "<table border=\"1\" class=\"dataframe\">\n",
              "  <thead>\n",
              "    <tr style=\"text-align: right;\">\n",
              "      <th>text</th>\n",
              "      <th>target</th>\n",
              "    </tr>\n",
              "  </thead>\n",
              "  <tbody>\n",
              "    <tr>\n",
              "      <td>xxbos この 作品 は 興味 重々 で は 有っ た の です が 、 なかなか 観る 事 は xxunk れ まし た 。 と 言う の も 、 個人 的 な xxunk 思い出 が 、 それ も 近い xxunk で xxunk 有っ た から です 。 私 は 、 数 年 前 、 幾 年 か の xxunk を 経 て 、 結婚 し た わけ です が 、 妻</td>\n",
              "      <td>1</td>\n",
              "    </tr>\n",
              "    <tr>\n",
              "      <td>xxbos 残念 ながら 、 レビュー を 見る と 、 続編 は 作る な と の 声 が 多い 様 で ある 。 前作 に 於い て も 、 続編 を 作る こと へ の 懸念 が 相当 あっ た 。 それ は 、 感動 が 台無し に さ れる こと へ の 恐れ から で あろ う 。 私 は 、 その 様 な ネガティブ な 考え は 好き じゃ</td>\n",
              "      <td>1</td>\n",
              "    </tr>\n",
              "    <tr>\n",
              "      <td>xxbos 『 m : i - 2 』 など の 巨匠 ジョン ・ ウー 監督 作品 。 （ １ ０ 億 円 も の xxunk を 投じ た そう です ^^;） 「 三国志 」 の 有名 な xxunk 「 赤 壁 の 戦い 」 を 映画 化 し た 壮大 な スケール の 歴史 スペクタクル 大作 。 「 三国志 」 って 、 小学生 の 時 ・ ・ ・ 学校 の</td>\n",
              "      <td>1</td>\n",
              "    </tr>\n",
              "    <tr>\n",
              "      <td>xxbos 舞台 は 、 東京 オリンピック xxunk を xxunk に xxunk た １ ９ ６ ３ 年 。 高度 経済 成長 の 走り で 、 xxunk は xxunk ものの 、 ６ ０ 年 安保 や 、 戦後 の 余韻 が まだ 残っ て いる 時代 の ころ 。 一方 で 、 多数 の 煙突 は 、 その後 、 公害 が 社会 問題 化 し て いく こと を も 象徴</td>\n",
              "      <td>1</td>\n",
              "    </tr>\n",
              "    <tr>\n",
              "      <td>xxbos 方々 で 酷評 さ れ て い た ので 、 他 に xxunk もの も 無い ので 期待 せ ず に レンタル し て 鑑賞 し まし た 。 予想 通り という か 、 酷い 出来 です 。 どこ が 悪い の か という こと を 、 具体 的 に うまく 表現 する の は 、 難しい の です が 、 xxunk 「 センス が ない 」 という 表現</td>\n",
              "      <td>0</td>\n",
              "    </tr>\n",
              "  </tbody>\n",
              "</table>"
            ],
            "text/plain": [
              "<IPython.core.display.HTML object>"
            ]
          },
          "metadata": {
            "tags": []
          }
        }
      ]
    },
    {
      "cell_type": "code",
      "metadata": {
        "id": "yhKXV6_ZdZUC",
        "colab_type": "code",
        "colab": {}
      },
      "source": [
        "config = awd_lstm_clas_config.copy()\n",
        "config[\"n_hid\"] = 1150"
      ],
      "execution_count": 0,
      "outputs": []
    },
    {
      "cell_type": "code",
      "metadata": {
        "id": "RPhBPzAzdZUH",
        "colab_type": "code",
        "colab": {}
      },
      "source": [
        "learn = text_classifier_learner(data_clas, AWD_LSTM,config=config,drop_mult=0.5)\n",
        "learn.load_encoder(\"encoder\")"
      ],
      "execution_count": 0,
      "outputs": []
    },
    {
      "cell_type": "code",
      "metadata": {
        "id": "Xjqoq74IdZUT",
        "colab_type": "code",
        "colab": {},
        "outputId": "b2b71238-0352-4df3-efc6-e0069a8e4cd1"
      },
      "source": [
        "learn.lr_find()\n",
        "learn.recorder.plot()"
      ],
      "execution_count": 0,
      "outputs": [
        {
          "output_type": "display_data",
          "data": {
            "text/html": [
              ""
            ],
            "text/plain": [
              "<IPython.core.display.HTML object>"
            ]
          },
          "metadata": {
            "tags": []
          }
        },
        {
          "output_type": "stream",
          "text": [
            "LR Finder is complete, type {learner_name}.recorder.plot() to see the graph.\n"
          ],
          "name": "stdout"
        },
        {
          "output_type": "display_data",
          "data": {
            "image/png": "[encoded data removed]",
            "text/plain": [
              "<Figure size 432x288 with 1 Axes>"
            ]
          },
          "metadata": {
            "tags": [],
            "needs_background": "light"
          }
        }
      ]
    },
    {
      "cell_type": "code",
      "metadata": {
        "id": "LT-k6784dZUl",
        "colab_type": "code",
        "colab": {},
        "outputId": "5f83e457-e0fc-4696-e3c8-376b1187331d"
      },
      "source": [
        "learn.fit_one_cycle(1, 2e-2, moms=(0.8,0.7))"
      ],
      "execution_count": 0,
      "outputs": [
        {
          "output_type": "display_data",
          "data": {
            "text/html": [
              "<table border=\"1\" class=\"dataframe\">\n",
              "  <thead>\n",
              "    <tr style=\"text-align: left;\">\n",
              "      <th>epoch</th>\n",
              "      <th>train_loss</th>\n",
              "      <th>valid_loss</th>\n",
              "      <th>accuracy</th>\n",
              "      <th>time</th>\n",
              "    </tr>\n",
              "  </thead>\n",
              "  <tbody>\n",
              "    <tr>\n",
              "      <td>0</td>\n",
              "      <td>0.658073</td>\n",
              "      <td>0.665492</td>\n",
              "      <td>0.585000</td>\n",
              "      <td>00:03</td>\n",
              "    </tr>\n",
              "  </tbody>\n",
              "</table>"
            ],
            "text/plain": [
              "<IPython.core.display.HTML object>"
            ]
          },
          "metadata": {
            "tags": []
          }
        }
      ]
    },
    {
      "cell_type": "code",
      "metadata": {
        "id": "jv4rXOPsdZU0",
        "colab_type": "code",
        "colab": {},
        "outputId": "e56f0aa6-db83-4c8e-8daa-4b2bbac447b6"
      },
      "source": [
        "learn.freeze_to(-2)\n",
        "learn.fit_one_cycle(1, slice(1e-2/(2.6**4),1e-2), moms=(0.8,0.7))"
      ],
      "execution_count": 0,
      "outputs": [
        {
          "output_type": "display_data",
          "data": {
            "text/html": [
              "<table border=\"1\" class=\"dataframe\">\n",
              "  <thead>\n",
              "    <tr style=\"text-align: left;\">\n",
              "      <th>epoch</th>\n",
              "      <th>train_loss</th>\n",
              "      <th>valid_loss</th>\n",
              "      <th>accuracy</th>\n",
              "      <th>time</th>\n",
              "    </tr>\n",
              "  </thead>\n",
              "  <tbody>\n",
              "    <tr>\n",
              "      <td>0</td>\n",
              "      <td>0.570638</td>\n",
              "      <td>0.610348</td>\n",
              "      <td>0.695000</td>\n",
              "      <td>00:03</td>\n",
              "    </tr>\n",
              "  </tbody>\n",
              "</table>"
            ],
            "text/plain": [
              "<IPython.core.display.HTML object>"
            ]
          },
          "metadata": {
            "tags": []
          }
        }
      ]
    },
    {
      "cell_type": "code",
      "metadata": {
        "id": "M5iQzvfddZU8",
        "colab_type": "code",
        "colab": {},
        "outputId": "f7673648-7009-43e9-b832-f8ed99f35c72"
      },
      "source": [
        "learn.freeze_to(-3)\n",
        "learn.fit_one_cycle(1, slice(5e-3/(2.6**4),5e-3), moms=(0.8,0.7))"
      ],
      "execution_count": 0,
      "outputs": [
        {
          "output_type": "display_data",
          "data": {
            "text/html": [
              "<table border=\"1\" class=\"dataframe\">\n",
              "  <thead>\n",
              "    <tr style=\"text-align: left;\">\n",
              "      <th>epoch</th>\n",
              "      <th>train_loss</th>\n",
              "      <th>valid_loss</th>\n",
              "      <th>accuracy</th>\n",
              "      <th>time</th>\n",
              "    </tr>\n",
              "  </thead>\n",
              "  <tbody>\n",
              "    <tr>\n",
              "      <td>0</td>\n",
              "      <td>0.489625</td>\n",
              "      <td>0.590400</td>\n",
              "      <td>0.695000</td>\n",
              "      <td>00:05</td>\n",
              "    </tr>\n",
              "  </tbody>\n",
              "</table>"
            ],
            "text/plain": [
              "<IPython.core.display.HTML object>"
            ]
          },
          "metadata": {
            "tags": []
          }
        }
      ]
    },
    {
      "cell_type": "code",
      "metadata": {
        "id": "dGKypKa-dZVL",
        "colab_type": "code",
        "colab": {},
        "outputId": "381af1da-538b-4255-dd17-c4f306e227aa"
      },
      "source": [
        "learn.unfreeze()\n",
        "learn.fit_one_cycle(2, slice(1e-3/(2.6**4),1e-3), moms=(0.8,0.7))"
      ],
      "execution_count": 0,
      "outputs": [
        {
          "output_type": "display_data",
          "data": {
            "text/html": [
              "<table border=\"1\" class=\"dataframe\">\n",
              "  <thead>\n",
              "    <tr style=\"text-align: left;\">\n",
              "      <th>epoch</th>\n",
              "      <th>train_loss</th>\n",
              "      <th>valid_loss</th>\n",
              "      <th>accuracy</th>\n",
              "      <th>time</th>\n",
              "    </tr>\n",
              "  </thead>\n",
              "  <tbody>\n",
              "    <tr>\n",
              "      <td>0</td>\n",
              "      <td>0.445758</td>\n",
              "      <td>0.580102</td>\n",
              "      <td>0.700000</td>\n",
              "      <td>00:07</td>\n",
              "    </tr>\n",
              "    <tr>\n",
              "      <td>1</td>\n",
              "      <td>0.429772</td>\n",
              "      <td>0.573574</td>\n",
              "      <td>0.725000</td>\n",
              "      <td>00:07</td>\n",
              "    </tr>\n",
              "  </tbody>\n",
              "</table>"
            ],
            "text/plain": [
              "<IPython.core.display.HTML object>"
            ]
          },
          "metadata": {
            "tags": []
          }
        }
      ]
    },
    {
      "cell_type": "code",
      "metadata": {
        "id": "G-y0zq2JdZVV",
        "colab_type": "code",
        "colab": {},
        "outputId": "274d91e9-8e33-471b-c4cc-c38559587832"
      },
      "source": [
        "learn.predict(\"演技が悪かった\")"
      ],
      "execution_count": 0,
      "outputs": [
        {
          "output_type": "execute_result",
          "data": {
            "text/plain": [
              "(Category 0, tensor(0), tensor([0.9082, 0.0918]))"
            ]
          },
          "metadata": {
            "tags": []
          },
          "execution_count": 50
        }
      ]
    },
    {
      "cell_type": "code",
      "metadata": {
        "id": "9NVwgIhjdZVb",
        "colab_type": "code",
        "colab": {}
      },
      "source": [
        ""
      ],
      "execution_count": 0,
      "outputs": []
    }
  ]
}