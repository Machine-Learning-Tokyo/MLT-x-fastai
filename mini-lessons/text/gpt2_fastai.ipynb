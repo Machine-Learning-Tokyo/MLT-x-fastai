{
  "nbformat": 4,
  "nbformat_minor": 0,
  "metadata": {
    "kernelspec": {
      "display_name": "Python 3",
      "language": "python",
      "name": "python3"
    },
    "language_info": {
      "codemirror_mode": {
        "name": "ipython",
        "version": 3
      },
      "file_extension": ".py",
      "mimetype": "text/x-python",
      "name": "python",
      "nbconvert_exporter": "python",
      "pygments_lexer": "ipython3",
      "version": "3.6.8"
    },
    "colab": {
      "name": "gpt2-fastai.ipynb",
      "version": "0.3.2",
      "provenance": [],
      "include_colab_link": true
    }
  },
  "cells": [
    {
      "cell_type": "markdown",
      "metadata": {
        "id": "view-in-github",
        "colab_type": "text"
      },
      "source": [
        "<a href=\"https://colab.research.google.com/github/Machine-Learning-Tokyo/MLT-x-fastai/blob/master/mini-lessons/text/gpt2_fastai.ipynb\" target=\"_parent\"><img src=\"https://colab.research.google.com/assets/colab-badge.svg\" alt=\"Open In Colab\"/></a>"
      ]
    },
    {
      "cell_type": "code",
      "metadata": {
        "id": "Jrf17eHRgugt",
        "colab_type": "code",
        "colab": {}
      },
      "source": [
        "%reload_ext autoreload\n",
        "%autoreload 2\n",
        "%matplotlib inline"
      ],
      "execution_count": 0,
      "outputs": []
    },
    {
      "cell_type": "code",
      "metadata": {
        "id": "2g2Us8Ibguhe",
        "colab_type": "code",
        "colab": {}
      },
      "source": [
        "from fastai import *\n",
        "from fastai.text import *"
      ],
      "execution_count": 0,
      "outputs": []
    },
    {
      "cell_type": "code",
      "metadata": {
        "id": "IEu729BZguh6",
        "colab_type": "code",
        "colab": {}
      },
      "source": [
        "path = untar_data(URLs.IMDB_SAMPLE)"
      ],
      "execution_count": 0,
      "outputs": []
    },
    {
      "cell_type": "code",
      "metadata": {
        "id": "ma9L0pzHguiS",
        "colab_type": "code",
        "colab": {},
        "outputId": "c594d394-bcde-4ecc-f073-27b1d4984986"
      },
      "source": [
        "df = pd.read_csv(path/'texts.csv')\n",
        "df.head()"
      ],
      "execution_count": 0,
      "outputs": [
        {
          "output_type": "execute_result",
          "data": {
            "text/html": [
              "<div>\n",
              "<style scoped>\n",
              "    .dataframe tbody tr th:only-of-type {\n",
              "        vertical-align: middle;\n",
              "    }\n",
              "\n",
              "    .dataframe tbody tr th {\n",
              "        vertical-align: top;\n",
              "    }\n",
              "\n",
              "    .dataframe thead th {\n",
              "        text-align: right;\n",
              "    }\n",
              "</style>\n",
              "<table border=\"1\" class=\"dataframe\">\n",
              "  <thead>\n",
              "    <tr style=\"text-align: right;\">\n",
              "      <th></th>\n",
              "      <th>label</th>\n",
              "      <th>text</th>\n",
              "      <th>is_valid</th>\n",
              "    </tr>\n",
              "  </thead>\n",
              "  <tbody>\n",
              "    <tr>\n",
              "      <th>0</th>\n",
              "      <td>negative</td>\n",
              "      <td>Un-bleeping-believable! Meg Ryan doesn't even ...</td>\n",
              "      <td>False</td>\n",
              "    </tr>\n",
              "    <tr>\n",
              "      <th>1</th>\n",
              "      <td>positive</td>\n",
              "      <td>This is a extremely well-made film. The acting...</td>\n",
              "      <td>False</td>\n",
              "    </tr>\n",
              "    <tr>\n",
              "      <th>2</th>\n",
              "      <td>negative</td>\n",
              "      <td>Every once in a long while a movie will come a...</td>\n",
              "      <td>False</td>\n",
              "    </tr>\n",
              "    <tr>\n",
              "      <th>3</th>\n",
              "      <td>positive</td>\n",
              "      <td>Name just says it all. I watched this movie wi...</td>\n",
              "      <td>False</td>\n",
              "    </tr>\n",
              "    <tr>\n",
              "      <th>4</th>\n",
              "      <td>negative</td>\n",
              "      <td>This movie succeeds at being one of the most u...</td>\n",
              "      <td>False</td>\n",
              "    </tr>\n",
              "  </tbody>\n",
              "</table>\n",
              "</div>"
            ],
            "text/plain": [
              "      label                                               text  is_valid\n",
              "0  negative  Un-bleeping-believable! Meg Ryan doesn't even ...     False\n",
              "1  positive  This is a extremely well-made film. The acting...     False\n",
              "2  negative  Every once in a long while a movie will come a...     False\n",
              "3  positive  Name just says it all. I watched this movie wi...     False\n",
              "4  negative  This movie succeeds at being one of the most u...     False"
            ]
          },
          "metadata": {
            "tags": []
          },
          "execution_count": 4
        }
      ]
    },
    {
      "cell_type": "markdown",
      "metadata": {
        "id": "DmV9zNy0hE0w",
        "colab_type": "text"
      },
      "source": [
        "We'll looking a little bit at this [library](https://huggingface.co/pytorch-transformers/) for state-of-the-art NLP models"
      ]
    },
    {
      "cell_type": "code",
      "metadata": {
        "id": "lE11GT5jgujS",
        "colab_type": "code",
        "colab": {}
      },
      "source": [
        "#!pip install pytorch_transformers\n",
        "from pytorch_transformers import *"
      ],
      "execution_count": 0,
      "outputs": []
    },
    {
      "cell_type": "code",
      "metadata": {
        "id": "PkuosbN6guji",
        "colab_type": "code",
        "colab": {},
        "outputId": "707f8f67-4307-40c3-e036-222fd7d15e78"
      },
      "source": [
        "gpt2_tokenizer = GPT2Tokenizer.from_pretrained(\"gpt2\")\n",
        "gpt2_tokenizer.save_vocabulary(\".\")"
      ],
      "execution_count": 0,
      "outputs": [
        {
          "output_type": "execute_result",
          "data": {
            "text/plain": [
              "('./vocab.json', './merges.txt')"
            ]
          },
          "metadata": {
            "tags": []
          },
          "execution_count": 6
        }
      ]
    },
    {
      "cell_type": "code",
      "metadata": {
        "id": "MXZ6OGZOguj5",
        "colab_type": "code",
        "colab": {}
      },
      "source": [
        "EOS = BOS = gpt2_tokenizer.all_special_tokens[0]\n",
        "#defaults.text_post_rules = []\n",
        "#defaults.text_pre_rules = [fix_html]"
      ],
      "execution_count": 0,
      "outputs": []
    },
    {
      "cell_type": "code",
      "metadata": {
        "id": "RvNa-FjHgukI",
        "colab_type": "code",
        "colab": {}
      },
      "source": [
        "class GPTFastaiTokenizer(BaseTokenizer):\n",
        "    \"Basic class for a tokenizer function.\"\n",
        "    def __init__(self, lang:str): self.lang = lang\n",
        "    def tokenizer(self, t:str) -> List[str]:           \n",
        "        return gpt2_tokenizer.tokenize(t)\n",
        "    def add_special_cases(self, toks:Collection[str]): pass"
      ],
      "execution_count": 0,
      "outputs": []
    },
    {
      "cell_type": "code",
      "metadata": {
        "id": "5gQucaQwgukW",
        "colab_type": "code",
        "colab": {}
      },
      "source": [
        "itos_json = json.load(open(\"vocab.json\"))\n",
        "itos = [k for v,k in enumerate(itos_json)]"
      ],
      "execution_count": 0,
      "outputs": []
    },
    {
      "cell_type": "code",
      "metadata": {
        "id": "4DTRZ3QKgukt",
        "colab_type": "code",
        "colab": {}
      },
      "source": [
        "tokenizer = GPTFastaiTokenizer(\"en\")\n",
        "processor = [TokenizeProcessor(Tokenizer(tokenizer)),NumericalizeProcessor(vocab=Vocab(itos))]"
      ],
      "execution_count": 0,
      "outputs": []
    },
    {
      "cell_type": "code",
      "metadata": {
        "id": "B1nSkLOogulB",
        "colab_type": "code",
        "colab": {}
      },
      "source": [
        "class GPT2LMWrapper(GPT2LMHeadModel):\n",
        "    def __init__(self, config):\n",
        "        super(GPT2LMHeadModel, self).__init__(config)\n",
        "        self.transformer = GPT2Model(config)\n",
        "        self.lm_head = nn.Linear(config.n_embd, config.vocab_size, bias=False)\n",
        "\n",
        "        self.apply(self.init_weights)\n",
        "        self.tie_weights()\n",
        "\n",
        "    def tie_weights(self):\n",
        "        \"\"\" Make sure we are sharing the input and output embeddings.\n",
        "            Export to TorchScript can't handle parameter sharing so we are cloning them instead.\n",
        "        \"\"\"\n",
        "        self._tie_or_clone_weights(self.lm_head,\n",
        "                                   self.transformer.wte)\n",
        "    \n",
        "    def reset(self):pass\n",
        "    \n",
        "    def forward(self, input_ids, position_ids=None, token_type_ids=None, labels=None, past=None, head_mask=None):\n",
        "        transformer_outputs = self.transformer(input_ids, position_ids=position_ids, token_type_ids=token_type_ids,\n",
        "                                               past=past, head_mask=head_mask)\n",
        "        hidden_states = transformer_outputs[0]\n",
        "\n",
        "        lm_logits = self.lm_head(hidden_states)\n",
        "\n",
        "        outputs = (lm_logits,) + transformer_outputs + transformer_outputs\n",
        "        if labels is not None:\n",
        "            # Shift so that tokens < n predict n\n",
        "            shift_logits = lm_logits[..., :-1, :].contiguous()\n",
        "            shift_labels = labels[..., 1:].contiguous()\n",
        "            # Flatten the tokens\n",
        "            loss_fct = CrossEntropyLoss(ignore_index=-1)\n",
        "            loss = loss_fct(shift_logits.view(-1, shift_logits.size(-1)),\n",
        "                            shift_labels.view(-1))\n",
        "            outputs = (loss,) + outputs\n",
        "\n",
        "        return outputs  # (loss), lm_logits, presents, (all hidden_states), (attentions)"
      ],
      "execution_count": 0,
      "outputs": []
    },
    {
      "cell_type": "code",
      "metadata": {
        "id": "ZQ2ZBCpSgulR",
        "colab_type": "code",
        "colab": {}
      },
      "source": [
        "model = GPT2LMWrapper.from_pretrained('gpt2')"
      ],
      "execution_count": 0,
      "outputs": []
    },
    {
      "cell_type": "code",
      "metadata": {
        "id": "8i9Y8DL5gulj",
        "colab_type": "code",
        "colab": {}
      },
      "source": [
        "from fastai.callbacks import *"
      ],
      "execution_count": 0,
      "outputs": []
    },
    {
      "cell_type": "code",
      "metadata": {
        "id": "gUP6OauCguly",
        "colab_type": "code",
        "colab": {}
      },
      "source": [
        "data_lm = (TextList.from_df(df,path,cols=\"text\",processor=processor)\n",
        "             .split_by_rand_pct()\n",
        "             .label_for_lm()\n",
        "             .databunch())"
      ],
      "execution_count": 0,
      "outputs": []
    },
    {
      "cell_type": "code",
      "metadata": {
        "id": "FC1v9V7mgul9",
        "colab_type": "code",
        "colab": {},
        "outputId": "f04d2a77-3398-4ab1-e5ad-9d850e65fa62"
      },
      "source": [
        "data_lm.show_batch()"
      ],
      "execution_count": 0,
      "outputs": [
        {
          "output_type": "display_data",
          "data": {
            "text/html": [
              "<table border=\"1\" class=\"dataframe\">\n",
              "  <thead>\n",
              "    <tr style=\"text-align: right;\">\n",
              "      <th>idx</th>\n",
              "      <th>text</th>\n",
              "    </tr>\n",
              "  </thead>\n",
              "  <tbody>\n",
              "    <tr>\n",
              "      <td>0</td>\n",
              "      <td>! ! ! ! ! this was directed by the guy who did ! big ! ! ? ! must be a ! of ! ! - ! style . ! ! ! ! ! this is a extremely well - made film . ! the acting , script and camera - work are all first - rate . ! the music is good , too , though it is</td>\n",
              "    </tr>\n",
              "    <tr>\n",
              "      <td>1</td>\n",
              "      <td>/ 2 hours . i expected more about ! son of ! sam and instead got a movie that ! to have very little to do with the 1977 serial ! . ! the talking dog was ! ( you know you 're in ! when all the movie ! burst into laughter ! ) . ! the ! movie ! very ! and not very interesting . ! the</td>\n",
              "    </tr>\n",
              "    <tr>\n",
              "      <td>2</td>\n",
              "      <td>series ! it a ! telling ! to the ! . ! ! , ! ! ! is a pretty \" modern \" girl when you think about it , even though the ! of ! ! ! ! 's world may ! a ! ! to us today . ! if you have ! ! ! ! , i 'll only say that self - sufficient ! ! does</td>\n",
              "    </tr>\n",
              "    <tr>\n",
              "      <td>3</td>\n",
              "      <td>, particularly the use of ! or ! on head and ! hair . ! ! this film is the only one that ! with some ! ! ! ' original ! ! as has been ! . ! ! may find it ! to note plot details that ! here that are ! ! in other versions of the story . ! ! ' description of the ! !</td>\n",
              "    </tr>\n",
              "    <tr>\n",
              "      <td>4</td>\n",
              "      <td>! once wrote about that , \" we should all try to hang around with ! of other ! and try to know them . \" ! ! you 're ! your own ! . ! ! ! ! ! in one of those ! i ! . ! one time someone put ! around campus talking about the ! of the ! ! ! race and had the !</td>\n",
              "    </tr>\n",
              "  </tbody>\n",
              "</table>"
            ],
            "text/plain": [
              "<IPython.core.display.HTML object>"
            ]
          },
          "metadata": {
            "tags": []
          }
        }
      ]
    },
    {
      "cell_type": "code",
      "metadata": {
        "id": "FHscvbHEgumQ",
        "colab_type": "code",
        "colab": {}
      },
      "source": [
        "learn = LanguageLearner(data_lm,model)"
      ],
      "execution_count": 0,
      "outputs": []
    },
    {
      "cell_type": "code",
      "metadata": {
        "id": "lwasZ2FBgumi",
        "colab_type": "code",
        "colab": {},
        "outputId": "0b8c7b1a-d30e-4c6e-85b6-c2699eccb171"
      },
      "source": [
        "learn.lr_find()\n",
        "learn.recorder.plot()"
      ],
      "execution_count": 0,
      "outputs": [
        {
          "output_type": "display_data",
          "data": {
            "text/html": [
              ""
            ],
            "text/plain": [
              "<IPython.core.display.HTML object>"
            ]
          },
          "metadata": {
            "tags": []
          }
        },
        {
          "output_type": "stream",
          "text": [
            "LR Finder is complete, type {learner_name}.recorder.plot() to see the graph.\n"
          ],
          "name": "stdout"
        },
        {
          "output_type": "display_data",
          "data": {
            "image/png": "[encoded data removed]",
            "text/plain": [
              "<Figure size 432x288 with 1 Axes>"
            ]
          },
          "metadata": {
            "tags": [],
            "needs_background": "light"
          }
        }
      ]
    },
    {
      "cell_type": "code",
      "metadata": {
        "id": "8DfRUVdsgum3",
        "colab_type": "code",
        "colab": {},
        "outputId": "86fecd95-2d19-456d-8b30-214aa3dbd8d7"
      },
      "source": [
        "learn.fit_one_cycle(15,3e-3,moms=(0.7,0.8))"
      ],
      "execution_count": 0,
      "outputs": [
        {
          "output_type": "display_data",
          "data": {
            "text/html": [
              "<table border=\"1\" class=\"dataframe\">\n",
              "  <thead>\n",
              "    <tr style=\"text-align: left;\">\n",
              "      <th>epoch</th>\n",
              "      <th>train_loss</th>\n",
              "      <th>valid_loss</th>\n",
              "      <th>accuracy</th>\n",
              "      <th>time</th>\n",
              "    </tr>\n",
              "  </thead>\n",
              "  <tbody>\n",
              "    <tr>\n",
              "      <td>0</td>\n",
              "      <td>4.842220</td>\n",
              "      <td>4.403178</td>\n",
              "      <td>0.281824</td>\n",
              "      <td>00:57</td>\n",
              "    </tr>\n",
              "    <tr>\n",
              "      <td>1</td>\n",
              "      <td>4.287532</td>\n",
              "      <td>3.765579</td>\n",
              "      <td>0.314429</td>\n",
              "      <td>00:57</td>\n",
              "    </tr>\n",
              "    <tr>\n",
              "      <td>2</td>\n",
              "      <td>3.825458</td>\n",
              "      <td>3.423177</td>\n",
              "      <td>0.345966</td>\n",
              "      <td>00:57</td>\n",
              "    </tr>\n",
              "    <tr>\n",
              "      <td>3</td>\n",
              "      <td>3.545260</td>\n",
              "      <td>3.327716</td>\n",
              "      <td>0.357733</td>\n",
              "      <td>00:57</td>\n",
              "    </tr>\n",
              "    <tr>\n",
              "      <td>4</td>\n",
              "      <td>3.352965</td>\n",
              "      <td>3.245280</td>\n",
              "      <td>0.363361</td>\n",
              "      <td>00:57</td>\n",
              "    </tr>\n",
              "    <tr>\n",
              "      <td>5</td>\n",
              "      <td>3.226402</td>\n",
              "      <td>3.210527</td>\n",
              "      <td>0.366980</td>\n",
              "      <td>00:57</td>\n",
              "    </tr>\n",
              "    <tr>\n",
              "      <td>6</td>\n",
              "      <td>3.125595</td>\n",
              "      <td>3.181285</td>\n",
              "      <td>0.369834</td>\n",
              "      <td>00:57</td>\n",
              "    </tr>\n",
              "    <tr>\n",
              "      <td>7</td>\n",
              "      <td>3.046173</td>\n",
              "      <td>3.167163</td>\n",
              "      <td>0.372082</td>\n",
              "      <td>00:57</td>\n",
              "    </tr>\n",
              "    <tr>\n",
              "      <td>8</td>\n",
              "      <td>3.001789</td>\n",
              "      <td>3.164754</td>\n",
              "      <td>0.372130</td>\n",
              "      <td>00:57</td>\n",
              "    </tr>\n",
              "  </tbody>\n",
              "</table>"
            ],
            "text/plain": [
              "<IPython.core.display.HTML object>"
            ]
          },
          "metadata": {
            "tags": []
          }
        }
      ]
    },
    {
      "cell_type": "code",
      "metadata": {
        "id": "op6zeO9SgunL",
        "colab_type": "code",
        "colab": {}
      },
      "source": [
        "learn.predict(\"I liked this movie because\",n_words=70)"
      ],
      "execution_count": 0,
      "outputs": []
    },
    {
      "cell_type": "code",
      "metadata": {
        "id": "f5k6z-mQgunY",
        "colab_type": "code",
        "colab": {}
      },
      "source": [
        ""
      ],
      "execution_count": 0,
      "outputs": []
    }
  ]
}